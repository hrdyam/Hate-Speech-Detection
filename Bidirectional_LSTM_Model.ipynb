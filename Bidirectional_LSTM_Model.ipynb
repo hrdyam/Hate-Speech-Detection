{
 "cells": [
  {
   "cell_type": "markdown",
   "metadata": {
    "id": "Z2XS0SqtmAta"
   },
   "source": [
    "# Hate Speech Detection Model Implementation"
   ]
  },
  {
   "cell_type": "markdown",
   "metadata": {
    "id": "LSLoJpNV8WoZ"
   },
   "source": [
    "## Import relevant libraries"
   ]
  },
  {
   "cell_type": "code",
   "execution_count": null,
   "metadata": {},
   "outputs": [],
   "source": [
    "#!pip install -U gensim"
   ]
  },
  {
   "cell_type": "code",
   "execution_count": 1,
   "metadata": {
    "colab": {
     "base_uri": "https://localhost:8080/"
    },
    "id": "6MkKGZazmBXo",
    "outputId": "9aab4837-c012-4d98-c6c1-1b372de99386"
   },
   "outputs": [
    {
     "name": "stderr",
     "output_type": "stream",
     "text": [
      "[nltk_data] Downloading package stopwords to\n",
      "[nltk_data]     C:\\Users\\c2058594\\AppData\\Roaming\\nltk_data...\n",
      "[nltk_data]   Package stopwords is already up-to-date!\n",
      "[nltk_data] Downloading package wordnet to\n",
      "[nltk_data]     C:\\Users\\c2058594\\AppData\\Roaming\\nltk_data...\n",
      "[nltk_data]   Package wordnet is already up-to-date!\n",
      "[nltk_data] Downloading package punkt to\n",
      "[nltk_data]     C:\\Users\\c2058594\\AppData\\Roaming\\nltk_data...\n",
      "[nltk_data]   Package punkt is already up-to-date!\n",
      "[nltk_data] Downloading package averaged_perceptron_tagger to\n",
      "[nltk_data]     C:\\Users\\c2058594\\AppData\\Roaming\\nltk_data...\n",
      "[nltk_data]   Package averaged_perceptron_tagger is already up-to-\n",
      "[nltk_data]       date!\n",
      "[nltk_data] Downloading package wordnet to\n",
      "[nltk_data]     C:\\Users\\c2058594\\AppData\\Roaming\\nltk_data...\n",
      "[nltk_data]   Package wordnet is already up-to-date!\n",
      "C:\\Users\\c2058594\\Anaconda3\\envs\\tensorflow_env\\lib\\site-packages\\gensim\\similarities\\__init__.py:15: UserWarning: The gensim.similarities.levenshtein submodule is disabled, because the optional Levenshtein package <https://pypi.org/project/python-Levenshtein/> is unavailable. Install Levenhstein (e.g. `pip install python-Levenshtein`) to suppress this warning.\n",
      "  warnings.warn(msg)\n"
     ]
    }
   ],
   "source": [
    "import numpy as np \n",
    "import pandas as pd\n",
    "import seaborn as sns \n",
    "import matplotlib.pyplot as plt\n",
    "import re\n",
    "import string\n",
    "# \n",
    "import nltk.corpus\n",
    "from nltk.stem import WordNetLemmatizer\n",
    "from nltk import tokenize\n",
    "from nltk.tokenize import sent_tokenize,word_tokenize\n",
    "from nltk.corpus import stopwords\n",
    "from sklearn.feature_extraction.text import CountVectorizer\n",
    "from nltk.tokenize import TweetTokenizer\n",
    "nltk.download('stopwords')         \n",
    "nltk.download('wordnet')\n",
    "nltk.download('punkt')\n",
    "from nltk.tag import pos_tag\n",
    "nltk.download('averaged_perceptron_tagger')\n",
    "nltk.download('wordnet')\n",
    "#\n",
    "import tensorflow as tf\n",
    "from tensorflow import keras\n",
    "from tensorflow.keras import layers\n",
    "#import genism\n",
    "from gensim.models import Word2Vec, FastText\n",
    "from gensim.test.utils import datapath, get_tmpfile\n",
    "from gensim.scripts.glove2word2vec import glove2word2vec\n",
    "from gensim.models import KeyedVectors\n",
    "#\n",
    "from tensorflow.python.keras.preprocessing.text import Tokenizer\n",
    "from tensorflow.python.keras.preprocessing.sequence import pad_sequences\n",
    "from tensorflow.keras.layers import Dense, Embedding\n",
    "from tensorflow.keras.initializers import Constant"
   ]
  },
  {
   "cell_type": "markdown",
   "metadata": {
    "id": "6iqYn6tBmH5k"
   },
   "source": [
    "## Import Trainging, Test and Validation data"
   ]
  },
  {
   "cell_type": "code",
   "execution_count": 2,
   "metadata": {
    "id": "8xsyymfkH0Ey"
   },
   "outputs": [],
   "source": [
    "columns = ['id','text','HS','TR','AG']\n",
    "df_test= pd.read_csv(\"test_en.tsv\",sep=\"\\t\",header=None,names = columns)\n",
    "df_train= pd.read_csv(\"train_en.tsv\",sep=\"\\t\",header=0,names = columns)\n",
    "df_validation= pd.read_csv(\"dev_en.tsv\",sep=\"\\t\",header=0,names = columns)\n",
    "lemmatizer = WordNetLemmatizer()"
   ]
  },
  {
   "cell_type": "markdown",
   "metadata": {
    "id": "ikowhp0gpLs8"
   },
   "source": [
    "# Data Preprocessing\n",
    "\n",
    "Following processing are done :\n",
    "1. Convert to lower case\n",
    "2. Remove URLs, HTML Reference characters, numbers and mentions.\n",
    "3. Tokenize using NLTK Tweet tokenizer \n",
    "4. Remove punctuations and stop words.\n",
    "5. Lemmatize  words based on part of speech tag"
   ]
  },
  {
   "cell_type": "code",
   "execution_count": 3,
   "metadata": {
    "id": "hQnAJGwGCdZj"
   },
   "outputs": [],
   "source": [
    "def preprocess_data(data_set):\n",
    "    '''\n",
    "    This function performs data pre-processing and the processed tweets are added as a new column 'cleaned_tweets' in the dataframe.\n",
    "    input - Dataset to be processed as pandas dataframe\n",
    "    output - Update Dataset\n",
    "    '''\n",
    "# Make a copy of the dataset before pre-processing\n",
    "    df = data_set.copy()\n",
    "# Convert text to lower case\n",
    "    df['cleaned_tweets'] = df.text.str.lower()\n",
    "# Remove URLs\n",
    "    df['cleaned_tweets'] = df['cleaned_tweets'].str.replace('https?:\\/\\/\\S+', '')   \n",
    "# Remove HTML reference characters (&[a-z];)\n",
    "    df['cleaned_tweets'] = df['cleaned_tweets'].str.replace('&[a-z]+;', '')   \n",
    "# It is not ideal to keep real names for data analysis as it might be against Data Ethics, Hence we will try\n",
    "# to anoymize the data by removing the mentions.\n",
    "    df['cleaned_tweets'] = df['cleaned_tweets'].str.replace('@[a-z]+', '') \n",
    "# Remove numbers as they do not provide any insights.   \n",
    "    df['cleaned_tweets'] = df['cleaned_tweets'].str.replace('\\d+', '') \n",
    "#    \n",
    "# Before performing punctuation removal and stop words removal, we will tokenize the tweets    \n",
    "# using NLTK tweet tokenizer, By using 'tweet tokenizer', emojis and hashtags can be kept together.\n",
    "# This makes sure 'emoticons like - :-)' are preserved which would have been otherwise removed by punctuation removal \n",
    "# process.\n",
    "    tknzr = TweetTokenizer()\n",
    "    df['tokens'] = df['cleaned_tweets'].apply(tknzr.tokenize)  \n",
    "# Add punctuations along with stopwords..\n",
    "    punctuations = string.punctuation\n",
    "    sw = set(stopwords.words('english')) \n",
    "    sw.add('...')\n",
    "    sw.add('’')\n",
    "    sw.add('“')\n",
    "    sw.add('”')\n",
    "    sw.remove('not')\n",
    "    for punctuation in punctuations: \n",
    "        sw.add(punctuation)\n",
    "# Remove punctuations and stopwords.\n",
    "    df['tokens'] = df['tokens'].apply(lambda x: [item for item in x if item not in sw]) \n",
    "# Lemmatize  words based on part of speech tag for each word.\n",
    "    df['tokens'] = df['tokens'].apply(lemmatize_words)\n",
    "# Update cleaned_text with lemma form of words.        \n",
    "    df['cleaned_tweets'] = df['tokens'].apply(lambda x : ' '.join(x))   \n",
    "    return df"
   ]
  },
  {
   "cell_type": "code",
   "execution_count": 4,
   "metadata": {
    "id": "wLxW9g-L5skQ"
   },
   "outputs": [],
   "source": [
    "def lemmatize_words(tokens):\n",
    "    \"\"\"\n",
    "    Lemmatizer function based on an nltk lemmatizer object. \n",
    "    The words are lemmatized based on part of speech tag.\n",
    "    \n",
    "    Params:\n",
    "    tokens: list of tokens for each tweet\n",
    "    \"\"\"\n",
    "    tagged = pos_tag(tokens)\n",
    "    lemmatized_toks = []\n",
    "    for tok,pos in tagged:\n",
    "        pos_first = pos[0].lower()\n",
    "        if pos_first in 'n v'.split():\n",
    "            lemma=lemmatizer.lemmatize(tok,pos_first)\n",
    "        else:\n",
    "            lemma=tok\n",
    "        lemmatized_toks.append(lemma)\n",
    "    return lemmatized_toks"
   ]
  },
  {
   "cell_type": "code",
   "execution_count": 5,
   "metadata": {
    "id": "O57p1yvgtqRA"
   },
   "outputs": [],
   "source": [
    "# Pre-process training data\n",
    "train = preprocess_data(df_train)\n",
    "# Pre-process the test data \n",
    "test = preprocess_data(df_test)\n",
    "# Pre-process the validation data\n",
    "val = preprocess_data(df_validation)"
   ]
  },
  {
   "cell_type": "code",
   "execution_count": 6,
   "metadata": {
    "colab": {
     "base_uri": "https://localhost:8080/",
     "height": 399
    },
    "id": "oBDUiCm1jHP-",
    "outputId": "e7423cbf-0785-45e3-b4e7-ac4bc1c7a654"
   },
   "outputs": [
    {
     "data": {
      "text/html": [
       "<div>\n",
       "<style scoped>\n",
       "    .dataframe tbody tr th:only-of-type {\n",
       "        vertical-align: middle;\n",
       "    }\n",
       "\n",
       "    .dataframe tbody tr th {\n",
       "        vertical-align: top;\n",
       "    }\n",
       "\n",
       "    .dataframe thead th {\n",
       "        text-align: right;\n",
       "    }\n",
       "</style>\n",
       "<table border=\"1\" class=\"dataframe\">\n",
       "  <thead>\n",
       "    <tr style=\"text-align: right;\">\n",
       "      <th></th>\n",
       "      <th>id</th>\n",
       "      <th>text</th>\n",
       "      <th>HS</th>\n",
       "      <th>TR</th>\n",
       "      <th>AG</th>\n",
       "      <th>cleaned_tweets</th>\n",
       "      <th>tokens</th>\n",
       "    </tr>\n",
       "  </thead>\n",
       "  <tbody>\n",
       "    <tr>\n",
       "      <th>0</th>\n",
       "      <td>201</td>\n",
       "      <td>Hurray, saving us $$$ in so many ways @potus @...</td>\n",
       "      <td>1</td>\n",
       "      <td>0</td>\n",
       "      <td>0</td>\n",
       "      <td>hurray save us many way #lockthemup #buildthew...</td>\n",
       "      <td>[hurray, save, us, many, way, #lockthemup, #bu...</td>\n",
       "    </tr>\n",
       "    <tr>\n",
       "      <th>1</th>\n",
       "      <td>202</td>\n",
       "      <td>Why would young fighting age men be the vast m...</td>\n",
       "      <td>1</td>\n",
       "      <td>0</td>\n",
       "      <td>0</td>\n",
       "      <td>would young fight age men vast majority one es...</td>\n",
       "      <td>[would, young, fight, age, men, vast, majority...</td>\n",
       "    </tr>\n",
       "    <tr>\n",
       "      <th>2</th>\n",
       "      <td>203</td>\n",
       "      <td>@KamalaHarris Illegals Dump their Kids at the ...</td>\n",
       "      <td>1</td>\n",
       "      <td>0</td>\n",
       "      <td>0</td>\n",
       "      <td>illegals dump kid border like road kill refuse...</td>\n",
       "      <td>[illegals, dump, kid, border, like, road, kill...</td>\n",
       "    </tr>\n",
       "    <tr>\n",
       "      <th>3</th>\n",
       "      <td>204</td>\n",
       "      <td>NY Times: 'Nearly All White' States Pose 'an A...</td>\n",
       "      <td>0</td>\n",
       "      <td>0</td>\n",
       "      <td>0</td>\n",
       "      <td>ny time nearly white state pose array problem ...</td>\n",
       "      <td>[ny, time, nearly, white, state, pose, array, ...</td>\n",
       "    </tr>\n",
       "    <tr>\n",
       "      <th>4</th>\n",
       "      <td>205</td>\n",
       "      <td>Orban in Brussels: European leaders are ignori...</td>\n",
       "      <td>0</td>\n",
       "      <td>0</td>\n",
       "      <td>0</td>\n",
       "      <td>orban brussels european leader ignore people n...</td>\n",
       "      <td>[orban, brussels, european, leader, ignore, pe...</td>\n",
       "    </tr>\n",
       "  </tbody>\n",
       "</table>\n",
       "</div>"
      ],
      "text/plain": [
       "    id                                               text  HS  TR  AG  \\\n",
       "0  201  Hurray, saving us $$$ in so many ways @potus @...   1   0   0   \n",
       "1  202  Why would young fighting age men be the vast m...   1   0   0   \n",
       "2  203  @KamalaHarris Illegals Dump their Kids at the ...   1   0   0   \n",
       "3  204  NY Times: 'Nearly All White' States Pose 'an A...   0   0   0   \n",
       "4  205  Orban in Brussels: European leaders are ignori...   0   0   0   \n",
       "\n",
       "                                      cleaned_tweets  \\\n",
       "0  hurray save us many way #lockthemup #buildthew...   \n",
       "1  would young fight age men vast majority one es...   \n",
       "2  illegals dump kid border like road kill refuse...   \n",
       "3  ny time nearly white state pose array problem ...   \n",
       "4  orban brussels european leader ignore people n...   \n",
       "\n",
       "                                              tokens  \n",
       "0  [hurray, save, us, many, way, #lockthemup, #bu...  \n",
       "1  [would, young, fight, age, men, vast, majority...  \n",
       "2  [illegals, dump, kid, border, like, road, kill...  \n",
       "3  [ny, time, nearly, white, state, pose, array, ...  \n",
       "4  [orban, brussels, european, leader, ignore, pe...  "
      ]
     },
     "execution_count": 6,
     "metadata": {},
     "output_type": "execute_result"
    }
   ],
   "source": [
    "train.head()"
   ]
  },
  {
   "cell_type": "markdown",
   "metadata": {
    "id": "fBDmeAJqDBmc"
   },
   "source": [
    "## Split the datasets into inputs and target\n"
   ]
  },
  {
   "cell_type": "code",
   "execution_count": 7,
   "metadata": {
    "id": "1yvdjw4aDNox"
   },
   "outputs": [],
   "source": [
    "#split the x_train, x_test, y_train, y_test, x_val, y_val\n",
    "x_train = train.cleaned_tweets.values\n",
    "y_train = train.HS.values\n",
    "\n",
    "x_test=test.cleaned_tweets.values\n",
    "y_test = test.HS.values\n",
    "\n",
    "x_val = val.cleaned_tweets.values\n",
    "y_val = val.HS.values"
   ]
  },
  {
   "cell_type": "markdown",
   "metadata": {
    "id": "QFYHhDLqXl_f"
   },
   "source": [
    "# Transfer Learning with GloVe Word Vectors\n"
   ]
  },
  {
   "cell_type": "code",
   "execution_count": 8,
   "metadata": {
    "id": "yaPean1_XtIC"
   },
   "outputs": [],
   "source": [
    "def read_glove_vector(glove_vec):\n",
    "    with open(glove_vec, 'r', encoding='UTF-8') as f:\n",
    "        words = set()\n",
    "        word_to_vec_map = {}\n",
    "        for line in f:\n",
    "            w_line = line.split()\n",
    "            curr_word = w_line[0]\n",
    "            word_to_vec_map[curr_word] = np.array(w_line[1:], dtype=np.float64)\n",
    "    return word_to_vec_map"
   ]
  },
  {
   "cell_type": "code",
   "execution_count": 9,
   "metadata": {},
   "outputs": [],
   "source": [
    "# Get the GloVe pre-trained word vectors downloaded from https://nlp.stanford.edu/projects/glove/\n",
    "word_to_vec_map = read_glove_vector('glove.twitter.27B.200d.txt')"
   ]
  },
  {
   "cell_type": "code",
   "execution_count": 10,
   "metadata": {},
   "outputs": [
    {
     "name": "stderr",
     "output_type": "stream",
     "text": [
      "C:\\Users\\c2058594\\Anaconda3\\envs\\tensorflow_env\\lib\\site-packages\\ipykernel_launcher.py:5: DeprecationWarning: Call to deprecated `glove2word2vec` (KeyedVectors.load_word2vec_format(.., binary=False, no_header=True) loads GLoVE text vectors.).\n",
      "  \"\"\"\n"
     ]
    }
   ],
   "source": [
    "# load the 200 dimensional word vector in the appropriate format for the genism Word2Vec library.\n",
    "# 200 dimension vector gave better results than other dimension vectors.\n",
    "glove_file = datapath('C:/Users/c2058594/Downloads/CMT307 Group Coursework/hate_speech/Model/glove.twitter.27B.200d.txt')\n",
    "tmp_file = get_tmpfile(\"test_word2vec.txt\")\n",
    "# 'glove2word2vec' script convert GloVe vectors into the word2vec format. Both Glove and Word2Vec files are presented in text format \n",
    "# and almost identical except that word2vec includes number of vectors.\n",
    "_ = glove2word2vec(glove_file, tmp_file)\n",
    "# 'KeyedVectors' creates a mapping between key and vectors. Each vector can be identified by its lookup key.\n",
    "glove_vectors = KeyedVectors.load_word2vec_format(tmp_file)"
   ]
  },
  {
   "cell_type": "code",
   "execution_count": 11,
   "metadata": {},
   "outputs": [],
   "source": [
    "from gensim.models import Word2Vec\n",
    "# Vector size for each word\n",
    "word_size = 200\n",
    "# build word2vec model on the training dataset\n",
    "model_wv = Word2Vec(vector_size=200, window=20)\n",
    "model_wv.build_vocab(list(train.tokens))\n",
    "total_examples = model_wv.corpus_count"
   ]
  },
  {
   "cell_type": "markdown",
   "metadata": {},
   "source": [
    "## Add GloVe Weights and retrain the word2vec model"
   ]
  },
  {
   "cell_type": "code",
   "execution_count": 14,
   "metadata": {},
   "outputs": [],
   "source": [
    "# add GloVe vocabulary & weights\n",
    "model_wv.build_vocab([glove_vectors.index_to_key], update=True)\n",
    "\n",
    "# train the model. This gives a new set of word vectors that uses GloVe weights but tuned to incorporate training data.\n",
    "model_wv.train(list(train.tokens), total_examples=total_examples, epochs=model_wv.epochs)\n",
    "base_model_wv = model_wv.wv"
   ]
  },
  {
   "cell_type": "markdown",
   "metadata": {
    "id": "RzETfp3xYXHq"
   },
   "source": [
    "## Encode each tweet as a sequence of integers.\n",
    "\n",
    "This needs to be done since Keras Embedding layer requires integer inputs."
   ]
  },
  {
   "cell_type": "code",
   "execution_count": 15,
   "metadata": {
    "id": "iUe24zrtXtKo"
   },
   "outputs": [],
   "source": [
    "# create the tokenizer\n",
    "tokenizer_obj = Tokenizer()\n",
    "# fit the tokenizer on the training input data\n",
    "tokenizer_obj.fit_on_texts(x_train)"
   ]
  },
  {
   "cell_type": "code",
   "execution_count": 16,
   "metadata": {
    "id": "e-ImJL7EXtVj"
   },
   "outputs": [],
   "source": [
    "# Encode the tweets in the training dataset\n",
    "X_train_tokens = tokenizer_obj.texts_to_sequences(x_train)\n",
    "# Encode the tweets in the test dataset\n",
    "X_test_tokens = tokenizer_obj.texts_to_sequences(x_test)\n",
    "# Encode the tweets in the validation dataset\n",
    "X_dev_tokens = tokenizer_obj.texts_to_sequences(x_val)"
   ]
  },
  {
   "cell_type": "code",
   "execution_count": 17,
   "metadata": {
    "id": "J0qT4H_lXtYQ"
   },
   "outputs": [],
   "source": [
    "# Pad all tweets (training, test and validation) to the length of the longest review in the training dataset.\n",
    "max_length = max([len(s.split()) for s in x_train])\n",
    "X_train_pad = pad_sequences(X_train_tokens, maxlen = max_length, padding = 'post')\n",
    "X_test_pad = pad_sequences(X_test_tokens, maxlen = max_length, padding = 'post')\n",
    "X_dev_pad = pad_sequences(X_dev_tokens, maxlen = max_length, padding = 'post')"
   ]
  },
  {
   "cell_type": "code",
   "execution_count": 18,
   "metadata": {
    "colab": {
     "base_uri": "https://localhost:8080/"
    },
    "id": "76iUEG4BXmez",
    "outputId": "f34a85f7-9070-4a18-fb64-c23d2ec9778d"
   },
   "outputs": [],
   "source": [
    "# define vocabulary size\n",
    "num_words = len(tokenizer_obj.word_index) + 1\n",
    "# define Embedding weight matrix dimensions with all 0\n",
    "embedding_matrix = np.zeros((num_words, 200))\n",
    "# Create embedding layer such that the encoded words map to the correct vector.\n",
    "for word, i in tokenizer_obj.word_index.items():\n",
    "    if (i > num_words):\n",
    "        continue\n",
    "    if (word in base_model_wv):\n",
    "        embedding_matrix[i] = base_model_wv[word]"
   ]
  },
  {
   "cell_type": "code",
   "execution_count": 19,
   "metadata": {
    "id": "U0Avmc2gXmhg"
   },
   "outputs": [],
   "source": [
    "# Create the embedding layer\n",
    "embedding_layer = Embedding(embedding_matrix.shape[0], \n",
    "                            embedding_matrix.shape[1], \n",
    "                            input_length=max_length,\n",
    "                            weights=[embedding_matrix],\n",
    "                            trainable=False)"
   ]
  },
  {
   "cell_type": "markdown",
   "metadata": {},
   "source": [
    "## Bidirectional LSTM Hyperparameter tuning using keras tuner"
   ]
  },
  {
   "cell_type": "code",
   "execution_count": 20,
   "metadata": {},
   "outputs": [],
   "source": [
    "#!pip install keras-tuner==1.0.1"
   ]
  },
  {
   "cell_type": "code",
   "execution_count": 21,
   "metadata": {},
   "outputs": [],
   "source": [
    "from tensorflow import keras\n",
    "from kerastuner.tuners import BayesianOptimization\n",
    "from tensorflow.keras.layers import Input\n",
    "from tensorflow.keras.models import Model\n",
    "from tensorflow.keras.layers import Conv1D, MaxPooling1D, GlobalMaxPooling1D, LSTM , Bidirectional   \n",
    "from tensorflow.keras.layers import Dense, Flatten, Embedding, Activation, Dropout\n",
    "from tensorflow.keras.callbacks import ModelCheckpoint, EarlyStopping, Callback\n",
    "from tensorflow.keras.layers import concatenate\n",
    "from tensorflow.keras.layers import BatchNormalization\n",
    "from tensorflow.keras.models import Sequential, Model\n",
    "import datetime"
   ]
  },
  {
   "cell_type": "code",
   "execution_count": 22,
   "metadata": {},
   "outputs": [
    {
     "name": "stdout",
     "output_type": "stream",
     "text": [
      "Epoch 1/10\n",
      "18/18 [==============================] - ETA: 1:52 - loss: 0.7484 - accuracy: 0.50 - ETA: 41s - loss: 1.1791 - accuracy: 0.5151 - ETA: 39s - loss: 1.4067 - accuracy: 0.515 - ETA: 36s - loss: 1.5646 - accuracy: 0.510 - ETA: 33s - loss: 1.7525 - accuracy: 0.510 - ETA: 31s - loss: 1.8455 - accuracy: 0.512 - ETA: 28s - loss: 1.9268 - accuracy: 0.513 - ETA: 25s - loss: 1.9859 - accuracy: 0.512 - ETA: 23s - loss: 2.0144 - accuracy: 0.510 - ETA: 20s - loss: 2.0230 - accuracy: 0.509 - ETA: 18s - loss: 2.0214 - accuracy: 0.509 - ETA: 15s - loss: 2.0131 - accuracy: 0.510 - ETA: 13s - loss: 2.0000 - accuracy: 0.511 - ETA: 10s - loss: 1.9833 - accuracy: 0.512 - ETA: 7s - loss: 1.9643 - accuracy: 0.513 - ETA: 5s - loss: 1.9438 - accuracy: 0.51 - ETA: 2s - loss: 1.9228 - accuracy: 0.51 - ETA: 0s - loss: 1.9027 - accuracy: 0.51 - 53s 3s/step - loss: 1.8848 - accuracy: 0.5168 - val_loss: 0.7727 - val_accuracy: 0.4270\n",
      "Epoch 2/10\n",
      "18/18 [==============================] - ETA: 43s - loss: 0.8477 - accuracy: 0.421 - ETA: 41s - loss: 0.8251 - accuracy: 0.433 - ETA: 38s - loss: 0.8076 - accuracy: 0.450 - ETA: 36s - loss: 0.7952 - accuracy: 0.463 - ETA: 33s - loss: 0.7876 - accuracy: 0.473 - ETA: 31s - loss: 0.7823 - accuracy: 0.481 - ETA: 29s - loss: 0.7790 - accuracy: 0.487 - ETA: 26s - loss: 0.7762 - accuracy: 0.493 - ETA: 23s - loss: 0.7740 - accuracy: 0.497 - ETA: 21s - loss: 0.7717 - accuracy: 0.500 - ETA: 18s - loss: 0.7697 - accuracy: 0.502 - ETA: 15s - loss: 0.7679 - accuracy: 0.504 - ETA: 13s - loss: 0.7664 - accuracy: 0.505 - ETA: 10s - loss: 0.7650 - accuracy: 0.505 - ETA: 7s - loss: 0.7637 - accuracy: 0.506 - ETA: 5s - loss: 0.7623 - accuracy: 0.50 - ETA: 2s - loss: 0.7612 - accuracy: 0.50 - ETA: 0s - loss: 0.7600 - accuracy: 0.50 - 48s 3s/step - loss: 0.7589 - accuracy: 0.5102 - val_loss: 0.7048 - val_accuracy: 0.5730\n",
      "Epoch 3/10\n",
      "18/18 [==============================] - ETA: 45s - loss: 0.7622 - accuracy: 0.531 - ETA: 41s - loss: 0.7492 - accuracy: 0.542 - ETA: 39s - loss: 0.7385 - accuracy: 0.548 - ETA: 36s - loss: 0.7322 - accuracy: 0.550 - ETA: 34s - loss: 0.7279 - accuracy: 0.550 - ETA: 32s - loss: 0.7250 - accuracy: 0.549 - ETA: 29s - loss: 0.7227 - accuracy: 0.548 - ETA: 26s - loss: 0.7208 - accuracy: 0.547 - ETA: 23s - loss: 0.7192 - accuracy: 0.547 - ETA: 21s - loss: 0.7180 - accuracy: 0.547 - ETA: 18s - loss: 0.7169 - accuracy: 0.547 - ETA: 15s - loss: 0.7160 - accuracy: 0.547 - ETA: 13s - loss: 0.7151 - accuracy: 0.547 - ETA: 10s - loss: 0.7143 - accuracy: 0.547 - ETA: 7s - loss: 0.7135 - accuracy: 0.547 - ETA: 5s - loss: 0.7128 - accuracy: 0.54 - ETA: 2s - loss: 0.7122 - accuracy: 0.54 - ETA: 0s - loss: 0.7117 - accuracy: 0.54 - 49s 3s/step - loss: 0.7112 - accuracy: 0.5479 - val_loss: 0.6847 - val_accuracy: 0.5730\n",
      "Epoch 4/10\n",
      "18/18 [==============================] - ETA: 45s - loss: 0.7100 - accuracy: 0.503 - ETA: 41s - loss: 0.7052 - accuracy: 0.513 - ETA: 39s - loss: 0.7048 - accuracy: 0.514 - ETA: 36s - loss: 0.7038 - accuracy: 0.517 - ETA: 34s - loss: 0.7030 - accuracy: 0.519 - ETA: 31s - loss: 0.7024 - accuracy: 0.522 - ETA: 29s - loss: 0.7017 - accuracy: 0.524 - ETA: 26s - loss: 0.7012 - accuracy: 0.526 - ETA: 23s - loss: 0.7007 - accuracy: 0.527 - ETA: 21s - loss: 0.7004 - accuracy: 0.529 - ETA: 18s - loss: 0.7000 - accuracy: 0.530 - ETA: 15s - loss: 0.6996 - accuracy: 0.532 - ETA: 13s - loss: 0.6992 - accuracy: 0.533 - ETA: 10s - loss: 0.6988 - accuracy: 0.534 - ETA: 7s - loss: 0.6984 - accuracy: 0.535 - ETA: 5s - loss: 0.6980 - accuracy: 0.53 - ETA: 2s - loss: 0.6976 - accuracy: 0.53 - ETA: 0s - loss: 0.6974 - accuracy: 0.53 - 49s 3s/step - loss: 0.6971 - accuracy: 0.5391 - val_loss: 0.6825 - val_accuracy: 0.5730\n",
      "Epoch 5/10\n",
      "18/18 [==============================] - ETA: 44s - loss: 0.6932 - accuracy: 0.527 - ETA: 41s - loss: 0.6913 - accuracy: 0.525 - ETA: 39s - loss: 0.6924 - accuracy: 0.521 - ETA: 36s - loss: 0.6927 - accuracy: 0.520 - ETA: 34s - loss: 0.6926 - accuracy: 0.521 - ETA: 32s - loss: 0.6923 - accuracy: 0.523 - ETA: 29s - loss: 0.6927 - accuracy: 0.525 - ETA: 26s - loss: 0.6931 - accuracy: 0.527 - ETA: 24s - loss: 0.6935 - accuracy: 0.529 - ETA: 21s - loss: 0.6935 - accuracy: 0.531 - ETA: 19s - loss: 0.6935 - accuracy: 0.533 - ETA: 16s - loss: 0.6935 - accuracy: 0.534 - ETA: 13s - loss: 0.6934 - accuracy: 0.535 - ETA: 10s - loss: 0.6932 - accuracy: 0.536 - ETA: 8s - loss: 0.6930 - accuracy: 0.538 - ETA: 5s - loss: 0.6929 - accuracy: 0.53 - ETA: 2s - loss: 0.6927 - accuracy: 0.54 - ETA: 0s - loss: 0.6926 - accuracy: 0.54 - 50s 3s/step - loss: 0.6924 - accuracy: 0.5419 - val_loss: 0.6825 - val_accuracy: 0.5730\n",
      "Epoch 6/10\n",
      "18/18 [==============================] - ETA: 44s - loss: 0.6748 - accuracy: 0.582 - ETA: 43s - loss: 0.6783 - accuracy: 0.575 - ETA: 41s - loss: 0.6800 - accuracy: 0.572 - ETA: 39s - loss: 0.6816 - accuracy: 0.570 - ETA: 35s - loss: 0.6823 - accuracy: 0.569 - ETA: 32s - loss: 0.6823 - accuracy: 0.570 - ETA: 29s - loss: 0.6823 - accuracy: 0.570 - ETA: 27s - loss: 0.6822 - accuracy: 0.571 - ETA: 24s - loss: 0.6825 - accuracy: 0.572 - ETA: 21s - loss: 0.6826 - accuracy: 0.573 - ETA: 18s - loss: 0.6828 - accuracy: 0.573 - ETA: 16s - loss: 0.6830 - accuracy: 0.573 - ETA: 13s - loss: 0.6832 - accuracy: 0.573 - ETA: 10s - loss: 0.6835 - accuracy: 0.572 - ETA: 8s - loss: 0.6836 - accuracy: 0.572 - ETA: 5s - loss: 0.6838 - accuracy: 0.57 - ETA: 2s - loss: 0.6840 - accuracy: 0.57 - ETA: 0s - loss: 0.6842 - accuracy: 0.57 - 50s 3s/step - loss: 0.6844 - accuracy: 0.5711 - val_loss: 0.6828 - val_accuracy: 0.5730\n",
      "Epoch 7/10\n",
      "18/18 [==============================] - ETA: 46s - loss: 0.6826 - accuracy: 0.568 - ETA: 44s - loss: 0.6825 - accuracy: 0.570 - ETA: 42s - loss: 0.6830 - accuracy: 0.569 - ETA: 39s - loss: 0.6833 - accuracy: 0.569 - ETA: 36s - loss: 0.6841 - accuracy: 0.567 - ETA: 33s - loss: 0.6843 - accuracy: 0.567 - ETA: 30s - loss: 0.6845 - accuracy: 0.567 - ETA: 28s - loss: 0.6846 - accuracy: 0.567 - ETA: 25s - loss: 0.6847 - accuracy: 0.568 - ETA: 22s - loss: 0.6846 - accuracy: 0.569 - ETA: 19s - loss: 0.6846 - accuracy: 0.569 - ETA: 16s - loss: 0.6846 - accuracy: 0.569 - ETA: 14s - loss: 0.6846 - accuracy: 0.570 - ETA: 11s - loss: 0.6845 - accuracy: 0.570 - ETA: 8s - loss: 0.6845 - accuracy: 0.570 - ETA: 5s - loss: 0.6845 - accuracy: 0.57 - ETA: 2s - loss: 0.6845 - accuracy: 0.57 - ETA: 0s - loss: 0.6845 - accuracy: 0.57 - 52s 3s/step - loss: 0.6845 - accuracy: 0.5712 - val_loss: 0.6825 - val_accuracy: 0.5730\n",
      "Epoch 8/10\n",
      "18/18 [==============================] - ETA: 47s - loss: 0.6965 - accuracy: 0.537 - ETA: 46s - loss: 0.6943 - accuracy: 0.545 - ETA: 42s - loss: 0.6932 - accuracy: 0.548 - ETA: 39s - loss: 0.6923 - accuracy: 0.552 - ETA: 36s - loss: 0.6918 - accuracy: 0.553 - ETA: 33s - loss: 0.6909 - accuracy: 0.555 - ETA: 30s - loss: 0.6907 - accuracy: 0.556 - ETA: 28s - loss: 0.6903 - accuracy: 0.557 - ETA: 25s - loss: 0.6899 - accuracy: 0.558 - ETA: 22s - loss: 0.6897 - accuracy: 0.558 - ETA: 19s - loss: 0.6894 - accuracy: 0.559 - ETA: 16s - loss: 0.6890 - accuracy: 0.560 - ETA: 14s - loss: 0.6886 - accuracy: 0.561 - ETA: 11s - loss: 0.6883 - accuracy: 0.562 - ETA: 8s - loss: 0.6881 - accuracy: 0.563 - ETA: 5s - loss: 0.6879 - accuracy: 0.56 - ETA: 2s - loss: 0.6876 - accuracy: 0.56 - ETA: 0s - loss: 0.6874 - accuracy: 0.56 - 52s 3s/step - loss: 0.6872 - accuracy: 0.5659 - val_loss: 0.6827 - val_accuracy: 0.5730\n",
      "Epoch 9/10\n",
      "18/18 [==============================] - ETA: 49s - loss: 0.6905 - accuracy: 0.574 - ETA: 45s - loss: 0.6918 - accuracy: 0.574 - ETA: 42s - loss: 0.6924 - accuracy: 0.571 - ETA: 39s - loss: 0.6924 - accuracy: 0.571 - ETA: 36s - loss: 0.6921 - accuracy: 0.570 - ETA: 33s - loss: 0.6917 - accuracy: 0.569 - ETA: 31s - loss: 0.6913 - accuracy: 0.569 - ETA: 28s - loss: 0.6907 - accuracy: 0.569 - ETA: 25s - loss: 0.6902 - accuracy: 0.569 - ETA: 22s - loss: 0.6900 - accuracy: 0.569 - ETA: 19s - loss: 0.6899 - accuracy: 0.569 - ETA: 16s - loss: 0.6896 - accuracy: 0.570 - ETA: 14s - loss: 0.6895 - accuracy: 0.570 - ETA: 11s - loss: 0.6893 - accuracy: 0.570 - ETA: 8s - loss: 0.6892 - accuracy: 0.570 - ETA: 5s - loss: 0.6890 - accuracy: 0.57 - ETA: 2s - loss: 0.6889 - accuracy: 0.57 - ETA: 0s - loss: 0.6887 - accuracy: 0.57 - 52s 3s/step - loss: 0.6886 - accuracy: 0.5709 - val_loss: 0.6856 - val_accuracy: 0.5730\n",
      "Epoch 10/10\n",
      "18/18 [==============================] - ETA: 46s - loss: 0.6828 - accuracy: 0.578 - ETA: 44s - loss: 0.6820 - accuracy: 0.582 - ETA: 42s - loss: 0.6814 - accuracy: 0.583 - ETA: 39s - loss: 0.6815 - accuracy: 0.583 - ETA: 37s - loss: 0.6821 - accuracy: 0.581 - ETA: 34s - loss: 0.6827 - accuracy: 0.579 - ETA: 31s - loss: 0.6831 - accuracy: 0.578 - ETA: 28s - loss: 0.6834 - accuracy: 0.576 - ETA: 25s - loss: 0.6835 - accuracy: 0.576 - ETA: 22s - loss: 0.6836 - accuracy: 0.576 - ETA: 19s - loss: 0.6837 - accuracy: 0.576 - ETA: 16s - loss: 0.6840 - accuracy: 0.576 - ETA: 14s - loss: 0.6840 - accuracy: 0.576 - ETA: 11s - loss: 0.6841 - accuracy: 0.576 - ETA: 8s - loss: 0.6841 - accuracy: 0.576 - ETA: 5s - loss: 0.6842 - accuracy: 0.57 - ETA: 2s - loss: 0.6843 - accuracy: 0.57 - ETA: 0s - loss: 0.6843 - accuracy: 0.57 - 52s 3s/step - loss: 0.6843 - accuracy: 0.5758 - val_loss: 0.6843 - val_accuracy: 0.5730\n"
     ]
    },
    {
     "data": {
      "text/html": [
       "<span style=\"color:#4527A0\"><h1 style=\"font-size:18px\">Trial complete</h1></span>"
      ],
      "text/plain": [
       "<IPython.core.display.HTML object>"
      ]
     },
     "metadata": {},
     "output_type": "display_data"
    },
    {
     "data": {
      "text/html": [
       "<span style=\"color:#4527A0\"><h1 style=\"font-size:18px\">Trial summary</h1></span>"
      ],
      "text/plain": [
       "<IPython.core.display.HTML object>"
      ]
     },
     "metadata": {},
     "output_type": "display_data"
    },
    {
     "data": {
      "text/html": [
       "<span style=\"color:cyan\"> |-Trial ID: 7d0f48c5b2e59ff24318417450d24993</span>"
      ],
      "text/plain": [
       "<IPython.core.display.HTML object>"
      ]
     },
     "metadata": {},
     "output_type": "display_data"
    },
    {
     "data": {
      "text/html": [
       "<span style=\"color:cyan\"> |-Score: 0.5730000138282776</span>"
      ],
      "text/plain": [
       "<IPython.core.display.HTML object>"
      ]
     },
     "metadata": {},
     "output_type": "display_data"
    },
    {
     "data": {
      "text/html": [
       "<span style=\"color:cyan\"> |-Best step: 0</span>"
      ],
      "text/plain": [
       "<IPython.core.display.HTML object>"
      ]
     },
     "metadata": {},
     "output_type": "display_data"
    },
    {
     "data": {
      "text/html": [
       "<span style=\"color:#7E57C2\"><h2 style=\"font-size:16px\">Hyperparameters:</h2></span>"
      ],
      "text/plain": [
       "<IPython.core.display.HTML object>"
      ]
     },
     "metadata": {},
     "output_type": "display_data"
    },
    {
     "data": {
      "text/html": [
       "<span style=\"color:cyan\"> |-dense_activation: sigmoid</span>"
      ],
      "text/plain": [
       "<IPython.core.display.HTML object>"
      ]
     },
     "metadata": {},
     "output_type": "display_data"
    },
    {
     "data": {
      "text/html": [
       "<span style=\"color:blue\"> |-dropout: 0.5</span>"
      ],
      "text/plain": [
       "<IPython.core.display.HTML object>"
      ]
     },
     "metadata": {},
     "output_type": "display_data"
    },
    {
     "data": {
      "text/html": [
       "<span style=\"color:cyan\"> |-learning_rate: 0.01</span>"
      ],
      "text/plain": [
       "<IPython.core.display.HTML object>"
      ]
     },
     "metadata": {},
     "output_type": "display_data"
    },
    {
     "data": {
      "text/html": [
       "<span style=\"color:blue\"> |-units: 416</span>"
      ],
      "text/plain": [
       "<IPython.core.display.HTML object>"
      ]
     },
     "metadata": {},
     "output_type": "display_data"
    },
    {
     "name": "stdout",
     "output_type": "stream",
     "text": [
      "Epoch 1/10\n",
      "18/18 [==============================] - ETA: 1:22 - loss: 0.7029 - accuracy: 0.42 - ETA: 26s - loss: 0.6999 - accuracy: 0.4565 - ETA: 25s - loss: 0.6981 - accuracy: 0.473 - ETA: 24s - loss: 0.6964 - accuracy: 0.488 - ETA: 22s - loss: 0.6956 - accuracy: 0.498 - ETA: 20s - loss: 0.6950 - accuracy: 0.505 - ETA: 18s - loss: 0.6946 - accuracy: 0.510 - ETA: 17s - loss: 0.6942 - accuracy: 0.515 - ETA: 15s - loss: 0.6939 - accuracy: 0.519 - ETA: 13s - loss: 0.6936 - accuracy: 0.523 - ETA: 12s - loss: 0.6934 - accuracy: 0.526 - ETA: 10s - loss: 0.6931 - accuracy: 0.529 - ETA: 8s - loss: 0.6929 - accuracy: 0.531 - ETA: 6s - loss: 0.6927 - accuracy: 0.53 - ETA: 5s - loss: 0.6925 - accuracy: 0.53 - ETA: 3s - loss: 0.6923 - accuracy: 0.53 - ETA: 1s - loss: 0.6921 - accuracy: 0.53 - ETA: 0s - loss: 0.6919 - accuracy: 0.54 - 36s 2s/step - loss: 0.6918 - accuracy: 0.5419 - val_loss: 0.6839 - val_accuracy: 0.5730\n",
      "Epoch 2/10\n",
      "18/18 [==============================] - ETA: 30s - loss: 0.6859 - accuracy: 0.576 - ETA: 38s - loss: 0.6872 - accuracy: 0.573 - ETA: 37s - loss: 0.6870 - accuracy: 0.575 - ETA: 32s - loss: 0.6865 - accuracy: 0.576 - ETA: 29s - loss: 0.6860 - accuracy: 0.578 - ETA: 26s - loss: 0.6858 - accuracy: 0.578 - ETA: 23s - loss: 0.6854 - accuracy: 0.579 - ETA: 21s - loss: 0.6851 - accuracy: 0.580 - ETA: 18s - loss: 0.6849 - accuracy: 0.580 - ETA: 16s - loss: 0.6847 - accuracy: 0.581 - ETA: 14s - loss: 0.6846 - accuracy: 0.581 - ETA: 12s - loss: 0.6845 - accuracy: 0.581 - ETA: 10s - loss: 0.6845 - accuracy: 0.581 - ETA: 8s - loss: 0.6845 - accuracy: 0.581 - ETA: 6s - loss: 0.6845 - accuracy: 0.58 - ETA: 4s - loss: 0.6845 - accuracy: 0.58 - ETA: 2s - loss: 0.6845 - accuracy: 0.58 - ETA: 0s - loss: 0.6845 - accuracy: 0.58 - 37s 2s/step - loss: 0.6844 - accuracy: 0.5804 - val_loss: 0.6794 - val_accuracy: 0.5760\n",
      "Epoch 3/10\n",
      "18/18 [==============================] - ETA: 30s - loss: 0.6762 - accuracy: 0.611 - ETA: 29s - loss: 0.6762 - accuracy: 0.610 - ETA: 27s - loss: 0.6761 - accuracy: 0.608 - ETA: 25s - loss: 0.6764 - accuracy: 0.604 - ETA: 23s - loss: 0.6766 - accuracy: 0.601 - ETA: 21s - loss: 0.6768 - accuracy: 0.600 - ETA: 19s - loss: 0.6770 - accuracy: 0.598 - ETA: 17s - loss: 0.6771 - accuracy: 0.597 - ETA: 15s - loss: 0.6773 - accuracy: 0.596 - ETA: 14s - loss: 0.6773 - accuracy: 0.595 - ETA: 12s - loss: 0.6774 - accuracy: 0.594 - ETA: 10s - loss: 0.6774 - accuracy: 0.593 - ETA: 8s - loss: 0.6774 - accuracy: 0.592 - ETA: 7s - loss: 0.6774 - accuracy: 0.59 - ETA: 5s - loss: 0.6774 - accuracy: 0.59 - ETA: 3s - loss: 0.6773 - accuracy: 0.59 - ETA: 1s - loss: 0.6773 - accuracy: 0.59 - ETA: 0s - loss: 0.6773 - accuracy: 0.59 - 33s 2s/step - loss: 0.6773 - accuracy: 0.5903 - val_loss: 0.6719 - val_accuracy: 0.5910\n",
      "Epoch 4/10\n",
      "18/18 [==============================] - ETA: 33s - loss: 0.6712 - accuracy: 0.584 - ETA: 33s - loss: 0.6705 - accuracy: 0.589 - ETA: 32s - loss: 0.6697 - accuracy: 0.591 - ETA: 29s - loss: 0.6691 - accuracy: 0.593 - ETA: 27s - loss: 0.6696 - accuracy: 0.592 - ETA: 24s - loss: 0.6701 - accuracy: 0.591 - ETA: 22s - loss: 0.6705 - accuracy: 0.589 - ETA: 20s - loss: 0.6708 - accuracy: 0.589 - ETA: 17s - loss: 0.6711 - accuracy: 0.588 - ETA: 15s - loss: 0.6713 - accuracy: 0.587 - ETA: 13s - loss: 0.6716 - accuracy: 0.587 - ETA: 11s - loss: 0.6718 - accuracy: 0.586 - ETA: 9s - loss: 0.6719 - accuracy: 0.586 - ETA: 7s - loss: 0.6719 - accuracy: 0.58 - ETA: 5s - loss: 0.6719 - accuracy: 0.58 - ETA: 3s - loss: 0.6719 - accuracy: 0.58 - ETA: 1s - loss: 0.6717 - accuracy: 0.58 - ETA: 0s - loss: 0.6716 - accuracy: 0.58 - 35s 2s/step - loss: 0.6714 - accuracy: 0.5875 - val_loss: 0.6682 - val_accuracy: 0.5920\n",
      "Epoch 5/10\n",
      "18/18 [==============================] - ETA: 34s - loss: 0.6649 - accuracy: 0.574 - ETA: 31s - loss: 0.6697 - accuracy: 0.573 - ETA: 28s - loss: 0.6684 - accuracy: 0.579 - ETA: 26s - loss: 0.6677 - accuracy: 0.584 - ETA: 24s - loss: 0.6667 - accuracy: 0.588 - ETA: 22s - loss: 0.6663 - accuracy: 0.590 - ETA: 20s - loss: 0.6660 - accuracy: 0.592 - ETA: 18s - loss: 0.6658 - accuracy: 0.593 - ETA: 16s - loss: 0.6655 - accuracy: 0.594 - ETA: 14s - loss: 0.6652 - accuracy: 0.595 - ETA: 12s - loss: 0.6649 - accuracy: 0.596 - ETA: 10s - loss: 0.6646 - accuracy: 0.597 - ETA: 8s - loss: 0.6643 - accuracy: 0.597 - ETA: 7s - loss: 0.6641 - accuracy: 0.59 - ETA: 5s - loss: 0.6638 - accuracy: 0.59 - ETA: 3s - loss: 0.6637 - accuracy: 0.59 - ETA: 1s - loss: 0.6635 - accuracy: 0.59 - ETA: 0s - loss: 0.6632 - accuracy: 0.60 - 33s 2s/step - loss: 0.6631 - accuracy: 0.6004 - val_loss: 0.6560 - val_accuracy: 0.6250\n",
      "Epoch 6/10\n",
      "18/18 [==============================] - ETA: 29s - loss: 0.6482 - accuracy: 0.652 - ETA: 28s - loss: 0.6490 - accuracy: 0.643 - ETA: 26s - loss: 0.6501 - accuracy: 0.638 - ETA: 24s - loss: 0.6510 - accuracy: 0.634 - ETA: 23s - loss: 0.6518 - accuracy: 0.631 - ETA: 21s - loss: 0.6526 - accuracy: 0.629 - ETA: 19s - loss: 0.6525 - accuracy: 0.628 - ETA: 17s - loss: 0.6525 - accuracy: 0.627 - ETA: 16s - loss: 0.6523 - accuracy: 0.627 - ETA: 14s - loss: 0.6523 - accuracy: 0.626 - ETA: 12s - loss: 0.6523 - accuracy: 0.626 - ETA: 10s - loss: 0.6522 - accuracy: 0.625 - ETA: 8s - loss: 0.6520 - accuracy: 0.625 - ETA: 7s - loss: 0.6519 - accuracy: 0.62 - ETA: 5s - loss: 0.6518 - accuracy: 0.62 - ETA: 3s - loss: 0.6518 - accuracy: 0.62 - ETA: 1s - loss: 0.6518 - accuracy: 0.62 - ETA: 0s - loss: 0.6517 - accuracy: 0.62 - 32s 2s/step - loss: 0.6517 - accuracy: 0.6237 - val_loss: 0.6484 - val_accuracy: 0.6300\n",
      "Epoch 7/10\n",
      "18/18 [==============================] - ETA: 30s - loss: 0.6465 - accuracy: 0.634 - ETA: 27s - loss: 0.6509 - accuracy: 0.629 - ETA: 26s - loss: 0.6505 - accuracy: 0.630 - ETA: 24s - loss: 0.6493 - accuracy: 0.632 - ETA: 23s - loss: 0.6483 - accuracy: 0.634 - ETA: 21s - loss: 0.6476 - accuracy: 0.635 - ETA: 19s - loss: 0.6474 - accuracy: 0.636 - ETA: 17s - loss: 0.6474 - accuracy: 0.637 - ETA: 16s - loss: 0.6476 - accuracy: 0.637 - ETA: 14s - loss: 0.6478 - accuracy: 0.637 - ETA: 12s - loss: 0.6477 - accuracy: 0.637 - ETA: 10s - loss: 0.6476 - accuracy: 0.637 - ETA: 8s - loss: 0.6475 - accuracy: 0.637 - ETA: 7s - loss: 0.6475 - accuracy: 0.63 - ETA: 5s - loss: 0.6475 - accuracy: 0.63 - ETA: 3s - loss: 0.6475 - accuracy: 0.63 - ETA: 1s - loss: 0.6476 - accuracy: 0.63 - ETA: 0s - loss: 0.6476 - accuracy: 0.63 - 33s 2s/step - loss: 0.6476 - accuracy: 0.6377 - val_loss: 0.6445 - val_accuracy: 0.6330\n",
      "Epoch 8/10\n",
      "18/18 [==============================] - ETA: 38s - loss: 0.6530 - accuracy: 0.630 - ETA: 32s - loss: 0.6512 - accuracy: 0.630 - ETA: 30s - loss: 0.6500 - accuracy: 0.633 - ETA: 27s - loss: 0.6514 - accuracy: 0.630 - ETA: 25s - loss: 0.6516 - accuracy: 0.629 - ETA: 23s - loss: 0.6514 - accuracy: 0.629 - ETA: 21s - loss: 0.6505 - accuracy: 0.630 - ETA: 19s - loss: 0.6497 - accuracy: 0.631 - ETA: 17s - loss: 0.6488 - accuracy: 0.632 - ETA: 15s - loss: 0.6482 - accuracy: 0.632 - ETA: 13s - loss: 0.6477 - accuracy: 0.633 - ETA: 11s - loss: 0.6472 - accuracy: 0.633 - ETA: 9s - loss: 0.6468 - accuracy: 0.634 - ETA: 7s - loss: 0.6466 - accuracy: 0.63 - ETA: 5s - loss: 0.6464 - accuracy: 0.63 - ETA: 3s - loss: 0.6463 - accuracy: 0.63 - ETA: 1s - loss: 0.6462 - accuracy: 0.63 - ETA: 0s - loss: 0.6461 - accuracy: 0.63 - 34s 2s/step - loss: 0.6460 - accuracy: 0.6355 - val_loss: 0.6440 - val_accuracy: 0.6300\n",
      "Epoch 9/10\n",
      "18/18 [==============================] - ETA: 28s - loss: 0.6470 - accuracy: 0.617 - ETA: 27s - loss: 0.6449 - accuracy: 0.625 - ETA: 26s - loss: 0.6445 - accuracy: 0.628 - ETA: 24s - loss: 0.6451 - accuracy: 0.629 - ETA: 22s - loss: 0.6452 - accuracy: 0.630 - ETA: 21s - loss: 0.6452 - accuracy: 0.631 - ETA: 19s - loss: 0.6453 - accuracy: 0.632 - ETA: 17s - loss: 0.6452 - accuracy: 0.633 - ETA: 15s - loss: 0.6453 - accuracy: 0.633 - ETA: 13s - loss: 0.6453 - accuracy: 0.633 - ETA: 12s - loss: 0.6454 - accuracy: 0.634 - ETA: 10s - loss: 0.6453 - accuracy: 0.634 - ETA: 8s - loss: 0.6453 - accuracy: 0.634 - ETA: 6s - loss: 0.6451 - accuracy: 0.63 - ETA: 5s - loss: 0.6450 - accuracy: 0.63 - ETA: 3s - loss: 0.6449 - accuracy: 0.63 - ETA: 1s - loss: 0.6447 - accuracy: 0.63 - ETA: 0s - loss: 0.6445 - accuracy: 0.63 - 32s 2s/step - loss: 0.6444 - accuracy: 0.6361 - val_loss: 0.6411 - val_accuracy: 0.6380\n",
      "Epoch 10/10\n",
      "18/18 [==============================] - ETA: 28s - loss: 0.6337 - accuracy: 0.648 - ETA: 27s - loss: 0.6359 - accuracy: 0.650 - ETA: 26s - loss: 0.6379 - accuracy: 0.648 - ETA: 24s - loss: 0.6375 - accuracy: 0.650 - ETA: 22s - loss: 0.6374 - accuracy: 0.651 - ETA: 21s - loss: 0.6378 - accuracy: 0.650 - ETA: 19s - loss: 0.6382 - accuracy: 0.651 - ETA: 17s - loss: 0.6381 - accuracy: 0.651 - ETA: 15s - loss: 0.6379 - accuracy: 0.651 - ETA: 14s - loss: 0.6375 - accuracy: 0.652 - ETA: 12s - loss: 0.6373 - accuracy: 0.652 - ETA: 10s - loss: 0.6372 - accuracy: 0.652 - ETA: 8s - loss: 0.6370 - accuracy: 0.652 - ETA: 7s - loss: 0.6369 - accuracy: 0.65 - ETA: 5s - loss: 0.6368 - accuracy: 0.65 - ETA: 3s - loss: 0.6366 - accuracy: 0.65 - ETA: 1s - loss: 0.6365 - accuracy: 0.65 - ETA: 0s - loss: 0.6363 - accuracy: 0.65 - 32s 2s/step - loss: 0.6362 - accuracy: 0.6532 - val_loss: 0.6348 - val_accuracy: 0.6510\n"
     ]
    },
    {
     "data": {
      "text/html": [
       "<span style=\"color:#4527A0\"><h1 style=\"font-size:18px\">Trial complete</h1></span>"
      ],
      "text/plain": [
       "<IPython.core.display.HTML object>"
      ]
     },
     "metadata": {},
     "output_type": "display_data"
    },
    {
     "data": {
      "text/html": [
       "<span style=\"color:#4527A0\"><h1 style=\"font-size:18px\">Trial summary</h1></span>"
      ],
      "text/plain": [
       "<IPython.core.display.HTML object>"
      ]
     },
     "metadata": {},
     "output_type": "display_data"
    },
    {
     "data": {
      "text/html": [
       "<span style=\"color:cyan\"> |-Trial ID: 8287165b933e82b5e5b15394d6d6c7c4</span>"
      ],
      "text/plain": [
       "<IPython.core.display.HTML object>"
      ]
     },
     "metadata": {},
     "output_type": "display_data"
    },
    {
     "data": {
      "text/html": [
       "<span style=\"color:cyan\"> |-Score: 0.6510000228881836</span>"
      ],
      "text/plain": [
       "<IPython.core.display.HTML object>"
      ]
     },
     "metadata": {},
     "output_type": "display_data"
    },
    {
     "data": {
      "text/html": [
       "<span style=\"color:cyan\"> |-Best step: 0</span>"
      ],
      "text/plain": [
       "<IPython.core.display.HTML object>"
      ]
     },
     "metadata": {},
     "output_type": "display_data"
    },
    {
     "data": {
      "text/html": [
       "<span style=\"color:#7E57C2\"><h2 style=\"font-size:16px\">Hyperparameters:</h2></span>"
      ],
      "text/plain": [
       "<IPython.core.display.HTML object>"
      ]
     },
     "metadata": {},
     "output_type": "display_data"
    },
    {
     "data": {
      "text/html": [
       "<span style=\"color:cyan\"> |-dense_activation: tanh</span>"
      ],
      "text/plain": [
       "<IPython.core.display.HTML object>"
      ]
     },
     "metadata": {},
     "output_type": "display_data"
    },
    {
     "data": {
      "text/html": [
       "<span style=\"color:blue\"> |-dropout: 0.2</span>"
      ],
      "text/plain": [
       "<IPython.core.display.HTML object>"
      ]
     },
     "metadata": {},
     "output_type": "display_data"
    },
    {
     "data": {
      "text/html": [
       "<span style=\"color:cyan\"> |-learning_rate: 0.0001</span>"
      ],
      "text/plain": [
       "<IPython.core.display.HTML object>"
      ]
     },
     "metadata": {},
     "output_type": "display_data"
    },
    {
     "data": {
      "text/html": [
       "<span style=\"color:blue\"> |-units: 288</span>"
      ],
      "text/plain": [
       "<IPython.core.display.HTML object>"
      ]
     },
     "metadata": {},
     "output_type": "display_data"
    },
    {
     "name": "stdout",
     "output_type": "stream",
     "text": [
      "Epoch 1/10\n",
      "18/18 [==============================] - ETA: 1:19 - loss: 0.6955 - accuracy: 0.47 - ETA: 23s - loss: 0.6931 - accuracy: 0.5044 - ETA: 22s - loss: 0.6910 - accuracy: 0.519 - ETA: 21s - loss: 0.6903 - accuracy: 0.526 - ETA: 19s - loss: 0.6900 - accuracy: 0.532 - ETA: 18s - loss: 0.6897 - accuracy: 0.536 - ETA: 16s - loss: 0.6893 - accuracy: 0.540 - ETA: 15s - loss: 0.6892 - accuracy: 0.543 - ETA: 13s - loss: 0.6890 - accuracy: 0.546 - ETA: 12s - loss: 0.6889 - accuracy: 0.549 - ETA: 10s - loss: 0.6888 - accuracy: 0.551 - ETA: 9s - loss: 0.6887 - accuracy: 0.552 - ETA: 7s - loss: 0.6887 - accuracy: 0.55 - ETA: 6s - loss: 0.6886 - accuracy: 0.55 - ETA: 4s - loss: 0.6886 - accuracy: 0.55 - ETA: 3s - loss: 0.6886 - accuracy: 0.55 - ETA: 1s - loss: 0.6885 - accuracy: 0.55 - ETA: 0s - loss: 0.6885 - accuracy: 0.55 - 32s 2s/step - loss: 0.6885 - accuracy: 0.5599 - val_loss: 0.6832 - val_accuracy: 0.5730\n",
      "Epoch 2/10\n",
      "18/18 [==============================] - ETA: 24s - loss: 0.6882 - accuracy: 0.554 - ETA: 24s - loss: 0.6867 - accuracy: 0.562 - ETA: 23s - loss: 0.6861 - accuracy: 0.564 - ETA: 21s - loss: 0.6855 - accuracy: 0.566 - ETA: 19s - loss: 0.6851 - accuracy: 0.568 - ETA: 18s - loss: 0.6848 - accuracy: 0.569 - ETA: 16s - loss: 0.6846 - accuracy: 0.571 - ETA: 15s - loss: 0.6844 - accuracy: 0.572 - ETA: 13s - loss: 0.6843 - accuracy: 0.572 - ETA: 12s - loss: 0.6841 - accuracy: 0.573 - ETA: 10s - loss: 0.6840 - accuracy: 0.573 - ETA: 9s - loss: 0.6839 - accuracy: 0.574 - ETA: 7s - loss: 0.6837 - accuracy: 0.57 - ETA: 6s - loss: 0.6836 - accuracy: 0.57 - ETA: 4s - loss: 0.6835 - accuracy: 0.57 - ETA: 3s - loss: 0.6835 - accuracy: 0.57 - ETA: 1s - loss: 0.6834 - accuracy: 0.57 - ETA: 0s - loss: 0.6833 - accuracy: 0.57 - 28s 2s/step - loss: 0.6832 - accuracy: 0.5755 - val_loss: 0.6781 - val_accuracy: 0.5730\n",
      "Epoch 3/10\n",
      "18/18 [==============================] - ETA: 25s - loss: 0.6790 - accuracy: 0.574 - ETA: 23s - loss: 0.6770 - accuracy: 0.585 - ETA: 22s - loss: 0.6773 - accuracy: 0.585 - ETA: 20s - loss: 0.6771 - accuracy: 0.586 - ETA: 19s - loss: 0.6773 - accuracy: 0.586 - ETA: 18s - loss: 0.6774 - accuracy: 0.586 - ETA: 16s - loss: 0.6776 - accuracy: 0.586 - ETA: 15s - loss: 0.6779 - accuracy: 0.585 - ETA: 13s - loss: 0.6781 - accuracy: 0.584 - ETA: 12s - loss: 0.6782 - accuracy: 0.585 - ETA: 10s - loss: 0.6782 - accuracy: 0.585 - ETA: 9s - loss: 0.6782 - accuracy: 0.585 - ETA: 7s - loss: 0.6782 - accuracy: 0.58 - ETA: 6s - loss: 0.6782 - accuracy: 0.58 - ETA: 4s - loss: 0.6782 - accuracy: 0.58 - ETA: 3s - loss: 0.6782 - accuracy: 0.58 - ETA: 1s - loss: 0.6781 - accuracy: 0.58 - ETA: 0s - loss: 0.6780 - accuracy: 0.58 - 28s 2s/step - loss: 0.6779 - accuracy: 0.5858 - val_loss: 0.6709 - val_accuracy: 0.5870\n",
      "Epoch 4/10\n",
      "18/18 [==============================] - ETA: 25s - loss: 0.6818 - accuracy: 0.572 - ETA: 24s - loss: 0.6795 - accuracy: 0.579 - ETA: 22s - loss: 0.6776 - accuracy: 0.583 - ETA: 21s - loss: 0.6760 - accuracy: 0.585 - ETA: 19s - loss: 0.6749 - accuracy: 0.586 - ETA: 18s - loss: 0.6743 - accuracy: 0.587 - ETA: 16s - loss: 0.6735 - accuracy: 0.588 - ETA: 15s - loss: 0.6732 - accuracy: 0.588 - ETA: 13s - loss: 0.6730 - accuracy: 0.588 - ETA: 12s - loss: 0.6726 - accuracy: 0.589 - ETA: 10s - loss: 0.6723 - accuracy: 0.589 - ETA: 9s - loss: 0.6720 - accuracy: 0.589 - ETA: 7s - loss: 0.6717 - accuracy: 0.59 - ETA: 6s - loss: 0.6714 - accuracy: 0.59 - ETA: 4s - loss: 0.6712 - accuracy: 0.59 - ETA: 3s - loss: 0.6709 - accuracy: 0.59 - ETA: 1s - loss: 0.6707 - accuracy: 0.59 - ETA: 0s - loss: 0.6705 - accuracy: 0.59 - 28s 2s/step - loss: 0.6703 - accuracy: 0.5918 - val_loss: 0.6628 - val_accuracy: 0.6250\n",
      "Epoch 5/10\n",
      "18/18 [==============================] - ETA: 25s - loss: 0.6739 - accuracy: 0.568 - ETA: 23s - loss: 0.6686 - accuracy: 0.583 - ETA: 22s - loss: 0.6658 - accuracy: 0.590 - ETA: 20s - loss: 0.6646 - accuracy: 0.594 - ETA: 19s - loss: 0.6639 - accuracy: 0.596 - ETA: 17s - loss: 0.6635 - accuracy: 0.597 - ETA: 16s - loss: 0.6633 - accuracy: 0.598 - ETA: 14s - loss: 0.6626 - accuracy: 0.599 - ETA: 13s - loss: 0.6623 - accuracy: 0.599 - ETA: 12s - loss: 0.6620 - accuracy: 0.600 - ETA: 10s - loss: 0.6616 - accuracy: 0.600 - ETA: 9s - loss: 0.6612 - accuracy: 0.601 - ETA: 7s - loss: 0.6609 - accuracy: 0.60 - ETA: 6s - loss: 0.6607 - accuracy: 0.60 - ETA: 4s - loss: 0.6607 - accuracy: 0.60 - ETA: 3s - loss: 0.6606 - accuracy: 0.60 - ETA: 1s - loss: 0.6606 - accuracy: 0.60 - ETA: 0s - loss: 0.6606 - accuracy: 0.60 - 28s 2s/step - loss: 0.6606 - accuracy: 0.6022 - val_loss: 0.6552 - val_accuracy: 0.6310\n",
      "Epoch 6/10\n",
      "18/18 [==============================] - ETA: 25s - loss: 0.6492 - accuracy: 0.630 - ETA: 25s - loss: 0.6568 - accuracy: 0.618 - ETA: 23s - loss: 0.6597 - accuracy: 0.613 - ETA: 21s - loss: 0.6609 - accuracy: 0.610 - ETA: 20s - loss: 0.6606 - accuracy: 0.609 - ETA: 18s - loss: 0.6600 - accuracy: 0.609 - ETA: 16s - loss: 0.6593 - accuracy: 0.610 - ETA: 15s - loss: 0.6587 - accuracy: 0.611 - ETA: 13s - loss: 0.6581 - accuracy: 0.613 - ETA: 12s - loss: 0.6577 - accuracy: 0.614 - ETA: 10s - loss: 0.6574 - accuracy: 0.614 - ETA: 9s - loss: 0.6573 - accuracy: 0.615 - ETA: 7s - loss: 0.6573 - accuracy: 0.61 - ETA: 6s - loss: 0.6573 - accuracy: 0.61 - ETA: 4s - loss: 0.6573 - accuracy: 0.61 - ETA: 3s - loss: 0.6573 - accuracy: 0.61 - ETA: 1s - loss: 0.6572 - accuracy: 0.61 - ETA: 0s - loss: 0.6571 - accuracy: 0.61 - 28s 2s/step - loss: 0.6571 - accuracy: 0.6155 - val_loss: 0.6544 - val_accuracy: 0.6230\n",
      "Epoch 7/10\n",
      "18/18 [==============================] - ETA: 26s - loss: 0.6444 - accuracy: 0.628 - ETA: 25s - loss: 0.6399 - accuracy: 0.638 - ETA: 23s - loss: 0.6414 - accuracy: 0.637 - ETA: 21s - loss: 0.6422 - accuracy: 0.637 - ETA: 20s - loss: 0.6427 - accuracy: 0.637 - ETA: 18s - loss: 0.6428 - accuracy: 0.637 - ETA: 17s - loss: 0.6433 - accuracy: 0.637 - ETA: 15s - loss: 0.6438 - accuracy: 0.637 - ETA: 13s - loss: 0.6440 - accuracy: 0.637 - ETA: 12s - loss: 0.6441 - accuracy: 0.637 - ETA: 10s - loss: 0.6442 - accuracy: 0.637 - ETA: 9s - loss: 0.6444 - accuracy: 0.636 - ETA: 7s - loss: 0.6447 - accuracy: 0.63 - ETA: 6s - loss: 0.6450 - accuracy: 0.63 - ETA: 4s - loss: 0.6454 - accuracy: 0.63 - ETA: 3s - loss: 0.6457 - accuracy: 0.63 - ETA: 1s - loss: 0.6461 - accuracy: 0.63 - ETA: 0s - loss: 0.6465 - accuracy: 0.63 - 29s 2s/step - loss: 0.6469 - accuracy: 0.6326 - val_loss: 0.6566 - val_accuracy: 0.6210\n",
      "Epoch 8/10\n",
      "18/18 [==============================] - ETA: 26s - loss: 0.6498 - accuracy: 0.621 - ETA: 25s - loss: 0.6454 - accuracy: 0.634 - ETA: 23s - loss: 0.6423 - accuracy: 0.637 - ETA: 21s - loss: 0.6429 - accuracy: 0.636 - ETA: 20s - loss: 0.6435 - accuracy: 0.635 - ETA: 18s - loss: 0.6444 - accuracy: 0.633 - ETA: 17s - loss: 0.6453 - accuracy: 0.631 - ETA: 15s - loss: 0.6458 - accuracy: 0.629 - ETA: 13s - loss: 0.6463 - accuracy: 0.628 - ETA: 12s - loss: 0.6468 - accuracy: 0.627 - ETA: 10s - loss: 0.6472 - accuracy: 0.627 - ETA: 9s - loss: 0.6477 - accuracy: 0.626 - ETA: 7s - loss: 0.6479 - accuracy: 0.62 - ETA: 6s - loss: 0.6482 - accuracy: 0.62 - ETA: 4s - loss: 0.6484 - accuracy: 0.62 - ETA: 3s - loss: 0.6485 - accuracy: 0.62 - ETA: 1s - loss: 0.6488 - accuracy: 0.62 - ETA: 0s - loss: 0.6490 - accuracy: 0.62 - 28s 2s/step - loss: 0.6492 - accuracy: 0.6244 - val_loss: 0.6467 - val_accuracy: 0.6260\n",
      "Epoch 9/10\n",
      "18/18 [==============================] - ETA: 26s - loss: 0.6257 - accuracy: 0.660 - ETA: 25s - loss: 0.6300 - accuracy: 0.651 - ETA: 23s - loss: 0.6338 - accuracy: 0.645 - ETA: 21s - loss: 0.6358 - accuracy: 0.643 - ETA: 20s - loss: 0.6368 - accuracy: 0.642 - ETA: 18s - loss: 0.6377 - accuracy: 0.642 - ETA: 16s - loss: 0.6383 - accuracy: 0.642 - ETA: 15s - loss: 0.6388 - accuracy: 0.642 - ETA: 14s - loss: 0.6392 - accuracy: 0.642 - ETA: 12s - loss: 0.6394 - accuracy: 0.642 - ETA: 10s - loss: 0.6397 - accuracy: 0.642 - ETA: 9s - loss: 0.6400 - accuracy: 0.642 - ETA: 7s - loss: 0.6402 - accuracy: 0.64 - ETA: 6s - loss: 0.6405 - accuracy: 0.64 - ETA: 4s - loss: 0.6407 - accuracy: 0.64 - ETA: 3s - loss: 0.6408 - accuracy: 0.64 - ETA: 1s - loss: 0.6409 - accuracy: 0.64 - ETA: 0s - loss: 0.6410 - accuracy: 0.64 - 28s 2s/step - loss: 0.6411 - accuracy: 0.6418 - val_loss: 0.6520 - val_accuracy: 0.6350\n"
     ]
    },
    {
     "name": "stdout",
     "output_type": "stream",
     "text": [
      "Epoch 10/10\n",
      "18/18 [==============================] - ETA: 26s - loss: 0.6508 - accuracy: 0.621 - ETA: 24s - loss: 0.6464 - accuracy: 0.633 - ETA: 22s - loss: 0.6444 - accuracy: 0.634 - ETA: 21s - loss: 0.6426 - accuracy: 0.636 - ETA: 19s - loss: 0.6411 - accuracy: 0.638 - ETA: 18s - loss: 0.6393 - accuracy: 0.640 - ETA: 16s - loss: 0.6379 - accuracy: 0.641 - ETA: 15s - loss: 0.6371 - accuracy: 0.642 - ETA: 13s - loss: 0.6366 - accuracy: 0.642 - ETA: 12s - loss: 0.6361 - accuracy: 0.643 - ETA: 10s - loss: 0.6361 - accuracy: 0.643 - ETA: 9s - loss: 0.6361 - accuracy: 0.643 - ETA: 7s - loss: 0.6362 - accuracy: 0.64 - ETA: 6s - loss: 0.6364 - accuracy: 0.64 - ETA: 4s - loss: 0.6366 - accuracy: 0.64 - ETA: 3s - loss: 0.6367 - accuracy: 0.64 - ETA: 1s - loss: 0.6368 - accuracy: 0.64 - ETA: 0s - loss: 0.6368 - accuracy: 0.64 - 28s 2s/step - loss: 0.6368 - accuracy: 0.6433 - val_loss: 0.6368 - val_accuracy: 0.6460\n"
     ]
    },
    {
     "data": {
      "text/html": [
       "<span style=\"color:#4527A0\"><h1 style=\"font-size:18px\">Trial complete</h1></span>"
      ],
      "text/plain": [
       "<IPython.core.display.HTML object>"
      ]
     },
     "metadata": {},
     "output_type": "display_data"
    },
    {
     "data": {
      "text/html": [
       "<span style=\"color:#4527A0\"><h1 style=\"font-size:18px\">Trial summary</h1></span>"
      ],
      "text/plain": [
       "<IPython.core.display.HTML object>"
      ]
     },
     "metadata": {},
     "output_type": "display_data"
    },
    {
     "data": {
      "text/html": [
       "<span style=\"color:cyan\"> |-Trial ID: 5bca41a7e60c2ef3c61a160abcaccc55</span>"
      ],
      "text/plain": [
       "<IPython.core.display.HTML object>"
      ]
     },
     "metadata": {},
     "output_type": "display_data"
    },
    {
     "data": {
      "text/html": [
       "<span style=\"color:cyan\"> |-Score: 0.6460000276565552</span>"
      ],
      "text/plain": [
       "<IPython.core.display.HTML object>"
      ]
     },
     "metadata": {},
     "output_type": "display_data"
    },
    {
     "data": {
      "text/html": [
       "<span style=\"color:cyan\"> |-Best step: 0</span>"
      ],
      "text/plain": [
       "<IPython.core.display.HTML object>"
      ]
     },
     "metadata": {},
     "output_type": "display_data"
    },
    {
     "data": {
      "text/html": [
       "<span style=\"color:#7E57C2\"><h2 style=\"font-size:16px\">Hyperparameters:</h2></span>"
      ],
      "text/plain": [
       "<IPython.core.display.HTML object>"
      ]
     },
     "metadata": {},
     "output_type": "display_data"
    },
    {
     "data": {
      "text/html": [
       "<span style=\"color:cyan\"> |-dense_activation: tanh</span>"
      ],
      "text/plain": [
       "<IPython.core.display.HTML object>"
      ]
     },
     "metadata": {},
     "output_type": "display_data"
    },
    {
     "data": {
      "text/html": [
       "<span style=\"color:blue\"> |-dropout: 0.30000000000000004</span>"
      ],
      "text/plain": [
       "<IPython.core.display.HTML object>"
      ]
     },
     "metadata": {},
     "output_type": "display_data"
    },
    {
     "data": {
      "text/html": [
       "<span style=\"color:cyan\"> |-learning_rate: 0.0001</span>"
      ],
      "text/plain": [
       "<IPython.core.display.HTML object>"
      ]
     },
     "metadata": {},
     "output_type": "display_data"
    },
    {
     "data": {
      "text/html": [
       "<span style=\"color:blue\"> |-units: 256</span>"
      ],
      "text/plain": [
       "<IPython.core.display.HTML object>"
      ]
     },
     "metadata": {},
     "output_type": "display_data"
    },
    {
     "name": "stdout",
     "output_type": "stream",
     "text": [
      "Epoch 1/10\n",
      "18/18 [==============================] - ETA: 58s - loss: 0.6909 - accuracy: 0.564 - ETA: 1s - loss: 0.6912 - accuracy: 0.555 - ETA: 1s - loss: 0.6916 - accuracy: 0.54 - ETA: 1s - loss: 0.6917 - accuracy: 0.54 - ETA: 1s - loss: 0.6917 - accuracy: 0.54 - ETA: 1s - loss: 0.6917 - accuracy: 0.54 - ETA: 1s - loss: 0.6917 - accuracy: 0.54 - ETA: 1s - loss: 0.6916 - accuracy: 0.54 - ETA: 1s - loss: 0.6915 - accuracy: 0.54 - ETA: 0s - loss: 0.6914 - accuracy: 0.54 - ETA: 0s - loss: 0.6913 - accuracy: 0.54 - ETA: 0s - loss: 0.6912 - accuracy: 0.54 - ETA: 0s - loss: 0.6911 - accuracy: 0.54 - ETA: 0s - loss: 0.6910 - accuracy: 0.54 - ETA: 0s - loss: 0.6909 - accuracy: 0.54 - ETA: 0s - loss: 0.6907 - accuracy: 0.54 - ETA: 0s - loss: 0.6906 - accuracy: 0.55 - ETA: 0s - loss: 0.6905 - accuracy: 0.55 - 6s 169ms/step - loss: 0.6903 - accuracy: 0.5521 - val_loss: 0.6845 - val_accuracy: 0.5730\n",
      "Epoch 2/10\n",
      "18/18 [==============================] - ETA: 1s - loss: 0.6834 - accuracy: 0.58 - ETA: 1s - loss: 0.6841 - accuracy: 0.58 - ETA: 1s - loss: 0.6849 - accuracy: 0.58 - ETA: 1s - loss: 0.6853 - accuracy: 0.57 - ETA: 1s - loss: 0.6855 - accuracy: 0.57 - ETA: 1s - loss: 0.6854 - accuracy: 0.57 - ETA: 1s - loss: 0.6854 - accuracy: 0.57 - ETA: 1s - loss: 0.6854 - accuracy: 0.57 - ETA: 1s - loss: 0.6855 - accuracy: 0.57 - ETA: 0s - loss: 0.6856 - accuracy: 0.57 - ETA: 0s - loss: 0.6857 - accuracy: 0.57 - ETA: 0s - loss: 0.6858 - accuracy: 0.57 - ETA: 0s - loss: 0.6858 - accuracy: 0.57 - ETA: 0s - loss: 0.6859 - accuracy: 0.57 - ETA: 0s - loss: 0.6859 - accuracy: 0.57 - ETA: 0s - loss: 0.6860 - accuracy: 0.57 - ETA: 0s - loss: 0.6860 - accuracy: 0.57 - ETA: 0s - loss: 0.6860 - accuracy: 0.57 - 2s 128ms/step - loss: 0.6860 - accuracy: 0.5775 - val_loss: 0.6836 - val_accuracy: 0.5730\n",
      "Epoch 3/10\n",
      "18/18 [==============================] - ETA: 2s - loss: 0.6791 - accuracy: 0.60 - ETA: 1s - loss: 0.6802 - accuracy: 0.60 - ETA: 1s - loss: 0.6814 - accuracy: 0.59 - ETA: 1s - loss: 0.6820 - accuracy: 0.59 - ETA: 1s - loss: 0.6823 - accuracy: 0.59 - ETA: 1s - loss: 0.6826 - accuracy: 0.59 - ETA: 1s - loss: 0.6828 - accuracy: 0.59 - ETA: 1s - loss: 0.6829 - accuracy: 0.59 - ETA: 1s - loss: 0.6831 - accuracy: 0.58 - ETA: 0s - loss: 0.6833 - accuracy: 0.58 - ETA: 0s - loss: 0.6834 - accuracy: 0.58 - ETA: 0s - loss: 0.6835 - accuracy: 0.58 - ETA: 0s - loss: 0.6836 - accuracy: 0.58 - ETA: 0s - loss: 0.6837 - accuracy: 0.58 - ETA: 0s - loss: 0.6838 - accuracy: 0.58 - ETA: 0s - loss: 0.6839 - accuracy: 0.58 - ETA: 0s - loss: 0.6839 - accuracy: 0.58 - ETA: 0s - loss: 0.6840 - accuracy: 0.58 - 2s 131ms/step - loss: 0.6840 - accuracy: 0.5830 - val_loss: 0.6824 - val_accuracy: 0.5730\n",
      "Epoch 4/10\n",
      "18/18 [==============================] - ETA: 2s - loss: 0.6878 - accuracy: 0.56 - ETA: 1s - loss: 0.6870 - accuracy: 0.56 - ETA: 1s - loss: 0.6874 - accuracy: 0.56 - ETA: 1s - loss: 0.6873 - accuracy: 0.56 - ETA: 1s - loss: 0.6869 - accuracy: 0.57 - ETA: 1s - loss: 0.6863 - accuracy: 0.57 - ETA: 1s - loss: 0.6861 - accuracy: 0.57 - ETA: 1s - loss: 0.6860 - accuracy: 0.57 - ETA: 1s - loss: 0.6859 - accuracy: 0.57 - ETA: 0s - loss: 0.6858 - accuracy: 0.57 - ETA: 0s - loss: 0.6856 - accuracy: 0.57 - ETA: 0s - loss: 0.6854 - accuracy: 0.57 - ETA: 0s - loss: 0.6853 - accuracy: 0.57 - ETA: 0s - loss: 0.6851 - accuracy: 0.57 - ETA: 0s - loss: 0.6850 - accuracy: 0.57 - ETA: 0s - loss: 0.6850 - accuracy: 0.57 - ETA: 0s - loss: 0.6849 - accuracy: 0.57 - ETA: 0s - loss: 0.6849 - accuracy: 0.57 - 2s 131ms/step - loss: 0.6848 - accuracy: 0.5773 - val_loss: 0.6814 - val_accuracy: 0.5730\n",
      "Epoch 5/10\n",
      "18/18 [==============================] - ETA: 2s - loss: 0.6753 - accuracy: 0.61 - ETA: 1s - loss: 0.6773 - accuracy: 0.60 - ETA: 1s - loss: 0.6788 - accuracy: 0.59 - ETA: 1s - loss: 0.6794 - accuracy: 0.59 - ETA: 1s - loss: 0.6800 - accuracy: 0.59 - ETA: 1s - loss: 0.6804 - accuracy: 0.59 - ETA: 1s - loss: 0.6806 - accuracy: 0.58 - ETA: 1s - loss: 0.6808 - accuracy: 0.58 - ETA: 1s - loss: 0.6809 - accuracy: 0.58 - ETA: 1s - loss: 0.6810 - accuracy: 0.58 - ETA: 0s - loss: 0.6811 - accuracy: 0.58 - ETA: 0s - loss: 0.6813 - accuracy: 0.58 - ETA: 0s - loss: 0.6814 - accuracy: 0.58 - ETA: 0s - loss: 0.6815 - accuracy: 0.58 - ETA: 0s - loss: 0.6816 - accuracy: 0.58 - ETA: 0s - loss: 0.6816 - accuracy: 0.58 - ETA: 0s - loss: 0.6817 - accuracy: 0.58 - ETA: 0s - loss: 0.6817 - accuracy: 0.58 - 2s 132ms/step - loss: 0.6818 - accuracy: 0.5842 - val_loss: 0.6797 - val_accuracy: 0.5730\n",
      "Epoch 6/10\n",
      "18/18 [==============================] - ETA: 2s - loss: 0.6745 - accuracy: 0.59 - ETA: 2s - loss: 0.6760 - accuracy: 0.59 - ETA: 1s - loss: 0.6764 - accuracy: 0.59 - ETA: 1s - loss: 0.6766 - accuracy: 0.59 - ETA: 1s - loss: 0.6770 - accuracy: 0.59 - ETA: 1s - loss: 0.6773 - accuracy: 0.59 - ETA: 1s - loss: 0.6778 - accuracy: 0.59 - ETA: 1s - loss: 0.6782 - accuracy: 0.59 - ETA: 1s - loss: 0.6784 - accuracy: 0.59 - ETA: 1s - loss: 0.6787 - accuracy: 0.59 - ETA: 0s - loss: 0.6789 - accuracy: 0.58 - ETA: 0s - loss: 0.6791 - accuracy: 0.58 - ETA: 0s - loss: 0.6793 - accuracy: 0.58 - ETA: 0s - loss: 0.6794 - accuracy: 0.58 - ETA: 0s - loss: 0.6795 - accuracy: 0.58 - ETA: 0s - loss: 0.6796 - accuracy: 0.58 - ETA: 0s - loss: 0.6797 - accuracy: 0.58 - ETA: 0s - loss: 0.6798 - accuracy: 0.58 - 2s 136ms/step - loss: 0.6799 - accuracy: 0.5861 - val_loss: 0.6781 - val_accuracy: 0.5730\n",
      "Epoch 7/10\n",
      "18/18 [==============================] - ETA: 2s - loss: 0.6757 - accuracy: 0.60 - ETA: 2s - loss: 0.6738 - accuracy: 0.60 - ETA: 2s - loss: 0.6745 - accuracy: 0.60 - ETA: 1s - loss: 0.6754 - accuracy: 0.60 - ETA: 1s - loss: 0.6760 - accuracy: 0.60 - ETA: 1s - loss: 0.6763 - accuracy: 0.60 - ETA: 1s - loss: 0.6765 - accuracy: 0.60 - ETA: 1s - loss: 0.6766 - accuracy: 0.59 - ETA: 1s - loss: 0.6768 - accuracy: 0.59 - ETA: 1s - loss: 0.6770 - accuracy: 0.59 - ETA: 0s - loss: 0.6772 - accuracy: 0.59 - ETA: 0s - loss: 0.6774 - accuracy: 0.59 - ETA: 0s - loss: 0.6775 - accuracy: 0.59 - ETA: 0s - loss: 0.6776 - accuracy: 0.59 - ETA: 0s - loss: 0.6777 - accuracy: 0.59 - ETA: 0s - loss: 0.6778 - accuracy: 0.59 - ETA: 0s - loss: 0.6779 - accuracy: 0.59 - ETA: 0s - loss: 0.6780 - accuracy: 0.59 - 3s 148ms/step - loss: 0.6781 - accuracy: 0.5912 - val_loss: 0.6763 - val_accuracy: 0.5780\n",
      "Epoch 8/10\n",
      "18/18 [==============================] - ETA: 2s - loss: 0.6745 - accuracy: 0.60 - ETA: 2s - loss: 0.6749 - accuracy: 0.59 - ETA: 1s - loss: 0.6753 - accuracy: 0.59 - ETA: 1s - loss: 0.6753 - accuracy: 0.59 - ETA: 1s - loss: 0.6752 - accuracy: 0.59 - ETA: 1s - loss: 0.6753 - accuracy: 0.59 - ETA: 1s - loss: 0.6754 - accuracy: 0.59 - ETA: 1s - loss: 0.6756 - accuracy: 0.59 - ETA: 1s - loss: 0.6758 - accuracy: 0.59 - ETA: 1s - loss: 0.6758 - accuracy: 0.59 - ETA: 0s - loss: 0.6758 - accuracy: 0.59 - ETA: 0s - loss: 0.6758 - accuracy: 0.59 - ETA: 0s - loss: 0.6758 - accuracy: 0.59 - ETA: 0s - loss: 0.6759 - accuracy: 0.59 - ETA: 0s - loss: 0.6760 - accuracy: 0.59 - ETA: 0s - loss: 0.6761 - accuracy: 0.59 - ETA: 0s - loss: 0.6761 - accuracy: 0.58 - ETA: 0s - loss: 0.6762 - accuracy: 0.58 - 2s 136ms/step - loss: 0.6763 - accuracy: 0.5890 - val_loss: 0.6738 - val_accuracy: 0.5910\n",
      "Epoch 9/10\n",
      "18/18 [==============================] - ETA: 2s - loss: 0.6683 - accuracy: 0.62 - ETA: 2s - loss: 0.6710 - accuracy: 0.60 - ETA: 1s - loss: 0.6727 - accuracy: 0.60 - ETA: 1s - loss: 0.6735 - accuracy: 0.59 - ETA: 1s - loss: 0.6739 - accuracy: 0.59 - ETA: 1s - loss: 0.6742 - accuracy: 0.59 - ETA: 1s - loss: 0.6745 - accuracy: 0.59 - ETA: 1s - loss: 0.6748 - accuracy: 0.59 - ETA: 1s - loss: 0.6751 - accuracy: 0.59 - ETA: 1s - loss: 0.6753 - accuracy: 0.58 - ETA: 0s - loss: 0.6754 - accuracy: 0.58 - ETA: 0s - loss: 0.6754 - accuracy: 0.58 - ETA: 0s - loss: 0.6754 - accuracy: 0.58 - ETA: 0s - loss: 0.6755 - accuracy: 0.58 - ETA: 0s - loss: 0.6755 - accuracy: 0.58 - ETA: 0s - loss: 0.6755 - accuracy: 0.58 - ETA: 0s - loss: 0.6756 - accuracy: 0.58 - ETA: 0s - loss: 0.6756 - accuracy: 0.58 - 2s 134ms/step - loss: 0.6756 - accuracy: 0.5887 - val_loss: 0.6718 - val_accuracy: 0.5880\n",
      "Epoch 10/10\n",
      "18/18 [==============================] - ETA: 2s - loss: 0.6621 - accuracy: 0.64 - ETA: 1s - loss: 0.6668 - accuracy: 0.62 - ETA: 1s - loss: 0.6696 - accuracy: 0.61 - ETA: 1s - loss: 0.6709 - accuracy: 0.60 - ETA: 1s - loss: 0.6715 - accuracy: 0.60 - ETA: 1s - loss: 0.6719 - accuracy: 0.60 - ETA: 1s - loss: 0.6723 - accuracy: 0.60 - ETA: 1s - loss: 0.6725 - accuracy: 0.60 - ETA: 1s - loss: 0.6727 - accuracy: 0.59 - ETA: 1s - loss: 0.6728 - accuracy: 0.59 - ETA: 0s - loss: 0.6730 - accuracy: 0.59 - ETA: 0s - loss: 0.6730 - accuracy: 0.59 - ETA: 0s - loss: 0.6730 - accuracy: 0.59 - ETA: 0s - loss: 0.6731 - accuracy: 0.59 - ETA: 0s - loss: 0.6731 - accuracy: 0.59 - ETA: 0s - loss: 0.6732 - accuracy: 0.59 - ETA: 0s - loss: 0.6732 - accuracy: 0.59 - ETA: 0s - loss: 0.6732 - accuracy: 0.59 - 2s 133ms/step - loss: 0.6732 - accuracy: 0.5944 - val_loss: 0.6697 - val_accuracy: 0.6010\n"
     ]
    },
    {
     "data": {
      "text/html": [
       "<span style=\"color:#4527A0\"><h1 style=\"font-size:18px\">Trial complete</h1></span>"
      ],
      "text/plain": [
       "<IPython.core.display.HTML object>"
      ]
     },
     "metadata": {},
     "output_type": "display_data"
    },
    {
     "data": {
      "text/html": [
       "<span style=\"color:#4527A0\"><h1 style=\"font-size:18px\">Trial summary</h1></span>"
      ],
      "text/plain": [
       "<IPython.core.display.HTML object>"
      ]
     },
     "metadata": {},
     "output_type": "display_data"
    },
    {
     "data": {
      "text/html": [
       "<span style=\"color:cyan\"> |-Trial ID: 8d90e7eafecbc5def3a57973315ab0de</span>"
      ],
      "text/plain": [
       "<IPython.core.display.HTML object>"
      ]
     },
     "metadata": {},
     "output_type": "display_data"
    },
    {
     "data": {
      "text/html": [
       "<span style=\"color:cyan\"> |-Score: 0.6010000109672546</span>"
      ],
      "text/plain": [
       "<IPython.core.display.HTML object>"
      ]
     },
     "metadata": {},
     "output_type": "display_data"
    },
    {
     "data": {
      "text/html": [
       "<span style=\"color:cyan\"> |-Best step: 0</span>"
      ],
      "text/plain": [
       "<IPython.core.display.HTML object>"
      ]
     },
     "metadata": {},
     "output_type": "display_data"
    },
    {
     "data": {
      "text/html": [
       "<span style=\"color:#7E57C2\"><h2 style=\"font-size:16px\">Hyperparameters:</h2></span>"
      ],
      "text/plain": [
       "<IPython.core.display.HTML object>"
      ]
     },
     "metadata": {},
     "output_type": "display_data"
    },
    {
     "data": {
      "text/html": [
       "<span style=\"color:cyan\"> |-dense_activation: relu</span>"
      ],
      "text/plain": [
       "<IPython.core.display.HTML object>"
      ]
     },
     "metadata": {},
     "output_type": "display_data"
    },
    {
     "data": {
      "text/html": [
       "<span style=\"color:blue\"> |-dropout: 0.1</span>"
      ],
      "text/plain": [
       "<IPython.core.display.HTML object>"
      ]
     },
     "metadata": {},
     "output_type": "display_data"
    },
    {
     "data": {
      "text/html": [
       "<span style=\"color:cyan\"> |-learning_rate: 0.0001</span>"
      ],
      "text/plain": [
       "<IPython.core.display.HTML object>"
      ]
     },
     "metadata": {},
     "output_type": "display_data"
    },
    {
     "data": {
      "text/html": [
       "<span style=\"color:blue\"> |-units: 32</span>"
      ],
      "text/plain": [
       "<IPython.core.display.HTML object>"
      ]
     },
     "metadata": {},
     "output_type": "display_data"
    },
    {
     "name": "stdout",
     "output_type": "stream",
     "text": [
      "INFO:tensorflow:Oracle triggered exit\n"
     ]
    }
   ],
   "source": [
    "import os\n",
    "def build_model(hp):\n",
    "    # Build the model. \n",
    "    # For hypertuning, hyperparameter search space is defined along with the model architecture\n",
    "    model = Sequential()\n",
    "    model.add(embedding_layer)\n",
    "    # Tune the number of activations. Choose a optimal value between 32 and 512\n",
    "    model.add(Bidirectional(LSTM(units=hp.Int('units',min_value=32,\n",
    "                                    max_value=512,\n",
    "                                    step=32))))\n",
    "    # Tune the dropout probability. Search space is between [0,0.5]\n",
    "    model.add(Dropout(hp.Float('dropout', 0, 0.5, step=0.1)))\n",
    "    # Tune the number of units in the dense layer.\n",
    "    model.add(Dense(units=hp.Int('units',min_value=32,\n",
    "                                    max_value=512,\n",
    "                                    step=32), activation=hp.Choice(\n",
    "                    'dense_activation',\n",
    "                    values=['relu', 'tanh','sigmoid'],\n",
    "                    default='relu')))\n",
    "    model.add(Dropout(hp.Float('dropout', 0, 0.5, step=0.1)))\n",
    "    model.add(Dense(1, activation='sigmoid'))\n",
    "    # Tune the learning rate for the adam optimizer\n",
    "    model.compile(loss='binary_crossentropy', metrics=['accuracy'], optimizer=keras.optimizers.Adam(\n",
    "        hp.Choice('learning_rate',\n",
    "                  values=[1e-2, 1e-3, 1e-4, 1e-5])))\n",
    "\n",
    "    return model\n",
    "\n",
    "# Instantiate the tuner to perform the hypertuning\n",
    "bayesian_opt_tuner = BayesianOptimization(\n",
    "    build_model,\n",
    "    objective='val_accuracy',\n",
    "    directory=os.path.normpath('C:/'),\n",
    "    project_name='kerastuner_bayesian',\n",
    "    overwrite=True,\n",
    "    max_trials=4)\n",
    "\n",
    "early_stopping = EarlyStopping('val_loss',patience=5)\n",
    "# Run the hyperparameter search\n",
    "bayesian_opt_tuner.search(X_train_pad, y_train, batch_size = 512,epochs = 10, \n",
    "                          validation_data= (X_dev_pad, y_val),callbacks=[early_stopping])"
   ]
  },
  {
   "cell_type": "code",
   "execution_count": 23,
   "metadata": {},
   "outputs": [
    {
     "name": "stdout",
     "output_type": "stream",
     "text": [
      "{'units': 288, 'dropout': 0.2, 'dense_activation': 'tanh', 'learning_rate': 0.0001}\n"
     ]
    }
   ],
   "source": [
    "# Get the optimal hyperparameters\n",
    "best_hyperparameters = bayesian_opt_tuner.get_best_hyperparameters(1)[0]\n",
    "print(best_hyperparameters.values)"
   ]
  },
  {
   "cell_type": "code",
   "execution_count": 24,
   "metadata": {},
   "outputs": [
    {
     "name": "stdout",
     "output_type": "stream",
     "text": [
      "Model: \"sequential\"\n",
      "_________________________________________________________________\n",
      "Layer (type)                 Output Shape              Param #   \n",
      "=================================================================\n",
      "embedding (Embedding)        (None, 48, 200)           2938800   \n",
      "_________________________________________________________________\n",
      "bidirectional (Bidirectional (None, 576)               1126656   \n",
      "_________________________________________________________________\n",
      "dropout (Dropout)            (None, 576)               0         \n",
      "_________________________________________________________________\n",
      "dense (Dense)                (None, 288)               166176    \n",
      "_________________________________________________________________\n",
      "dropout_1 (Dropout)          (None, 288)               0         \n",
      "_________________________________________________________________\n",
      "dense_1 (Dense)              (None, 1)                 289       \n",
      "=================================================================\n",
      "Total params: 4,231,921\n",
      "Trainable params: 1,293,121\n",
      "Non-trainable params: 2,938,800\n",
      "_________________________________________________________________\n",
      "None\n"
     ]
    }
   ],
   "source": [
    "# Get the best model\n",
    "best_models = bayesian_opt_tuner.get_best_models(num_models = 2)\n",
    "print(best_models[0].summary())"
   ]
  },
  {
   "cell_type": "markdown",
   "metadata": {},
   "source": [
    "## Train the model with the hyperparameters obtained from the search."
   ]
  },
  {
   "cell_type": "code",
   "execution_count": 25,
   "metadata": {},
   "outputs": [
    {
     "name": "stdout",
     "output_type": "stream",
     "text": [
      "Epoch 1/10\n",
      "18/18 - 36s - loss: 0.6863 - accuracy: 0.5779 - val_loss: 0.6815 - val_accuracy: 0.5730\n",
      "Epoch 2/10\n",
      "18/18 - 34s - loss: 0.6806 - accuracy: 0.5844 - val_loss: 0.6765 - val_accuracy: 0.5730\n",
      "Epoch 3/10\n",
      "18/18 - 32s - loss: 0.6750 - accuracy: 0.5934 - val_loss: 0.6690 - val_accuracy: 0.5960\n",
      "Epoch 4/10\n",
      "18/18 - 32s - loss: 0.6672 - accuracy: 0.5891 - val_loss: 0.6622 - val_accuracy: 0.6090\n",
      "Epoch 5/10\n",
      "18/18 - 32s - loss: 0.6585 - accuracy: 0.6112 - val_loss: 0.6570 - val_accuracy: 0.6270\n",
      "Epoch 6/10\n",
      "18/18 - 32s - loss: 0.6505 - accuracy: 0.6229 - val_loss: 0.6479 - val_accuracy: 0.6300\n",
      "Epoch 7/10\n",
      "18/18 - 33s - loss: 0.6491 - accuracy: 0.6274 - val_loss: 0.6468 - val_accuracy: 0.6290\n",
      "Epoch 8/10\n",
      "18/18 - 34s - loss: 0.6452 - accuracy: 0.6354 - val_loss: 0.6479 - val_accuracy: 0.6230\n",
      "Epoch 9/10\n",
      "18/18 - 32s - loss: 0.6451 - accuracy: 0.6351 - val_loss: 0.6425 - val_accuracy: 0.6430\n",
      "Epoch 10/10\n",
      "18/18 - 33s - loss: 0.6378 - accuracy: 0.6444 - val_loss: 0.6375 - val_accuracy: 0.6430\n"
     ]
    }
   ],
   "source": [
    "# Build the model with the optimal hyperparameters and train it on the data for 10 epochs\n",
    "model = bayesian_opt_tuner.hypermodel.build(best_hyperparameters)\n",
    "history = model.fit(X_train_pad, y_train, batch_size = 512,epochs = 10, verbose =2,\n",
    "                          validation_data= (X_dev_pad, y_val),callbacks=[early_stopping])"
   ]
  },
  {
   "cell_type": "code",
   "execution_count": 26,
   "metadata": {},
   "outputs": [],
   "source": [
    "# this function is to plot the history\n",
    "def plot_history(history):\n",
    "    acc = history.history['accuracy']\n",
    "    val_acc = history.history['val_accuracy']\n",
    "\n",
    "    loss = history.history['loss']\n",
    "    val_loss = history.history['val_loss']\n",
    "\n",
    "    x = range(1, len(acc) + 1)\n",
    "\n",
    "    plt.figure(figsize=(12, 5))\n",
    "    plt.subplot(1, 2, 1)\n",
    "    plt.plot(x, acc, 'b', label='Training acc')\n",
    "    plt.plot(x, val_acc, 'r', label='Validation acc')\n",
    "    plt.title('Training/Validation accuracy')\n",
    "    plt.ylabel('Accuracy')\n",
    "    plt.legend()\n",
    "\n",
    "    plt.subplot(1, 2, 2)\n",
    "    plt.plot(x, loss, 'b', label='Training loss')\n",
    "    plt.plot(x, val_loss, 'r', label='Validation loss') \n",
    "    plt.title('Training/Validation loss')\n",
    "    plt.ylabel('Loss')\n",
    "    plt.legend()"
   ]
  },
  {
   "cell_type": "code",
   "execution_count": 27,
   "metadata": {},
   "outputs": [
    {
     "data": {
      "image/png": "[encoded data removed]",
      "text/plain": [
       "<Figure size 864x360 with 2 Axes>"
      ]
     },
     "metadata": {
      "needs_background": "light"
     },
     "output_type": "display_data"
    }
   ],
   "source": [
    "plot_history(history)"
   ]
  },
  {
   "cell_type": "code",
   "execution_count": 75,
   "metadata": {},
   "outputs": [
    {
     "name": "stdout",
     "output_type": "stream",
     "text": [
      "93/93 [==============================] - ETA: 40s - loss: 0.6331 - accuracy: 0.593 - ETA: 11s - loss: 0.6436 - accuracy: 0.609 - ETA: 10s - loss: 0.6497 - accuracy: 0.614 - ETA: 10s - loss: 0.6410 - accuracy: 0.625 - ETA: 10s - loss: 0.6375 - accuracy: 0.631 - ETA: 9s - loss: 0.6516 - accuracy: 0.640 - ETA: 9s - loss: 0.6469 - accuracy: 0.65 - ETA: 9s - loss: 0.6495 - accuracy: 0.65 - ETA: 9s - loss: 0.6506 - accuracy: 0.64 - ETA: 9s - loss: 0.6599 - accuracy: 0.63 - ETA: 8s - loss: 0.6594 - accuracy: 0.63 - ETA: 8s - loss: 0.6644 - accuracy: 0.62 - ETA: 8s - loss: 0.6786 - accuracy: 0.60 - ETA: 8s - loss: 0.6849 - accuracy: 0.59 - ETA: 8s - loss: 0.6875 - accuracy: 0.58 - ETA: 8s - loss: 0.6882 - accuracy: 0.58 - ETA: 8s - loss: 0.6897 - accuracy: 0.58 - ETA: 8s - loss: 0.6915 - accuracy: 0.58 - ETA: 8s - loss: 0.6928 - accuracy: 0.58 - ETA: 7s - loss: 0.6902 - accuracy: 0.59 - ETA: 7s - loss: 0.6902 - accuracy: 0.59 - ETA: 7s - loss: 0.6882 - accuracy: 0.60 - ETA: 7s - loss: 0.6858 - accuracy: 0.60 - ETA: 7s - loss: 0.6812 - accuracy: 0.61 - ETA: 7s - loss: 0.6789 - accuracy: 0.61 - ETA: 7s - loss: 0.6790 - accuracy: 0.62 - ETA: 7s - loss: 0.6762 - accuracy: 0.62 - ETA: 7s - loss: 0.6749 - accuracy: 0.62 - ETA: 6s - loss: 0.6745 - accuracy: 0.62 - ETA: 6s - loss: 0.6716 - accuracy: 0.62 - ETA: 6s - loss: 0.6739 - accuracy: 0.62 - ETA: 6s - loss: 0.6726 - accuracy: 0.62 - ETA: 6s - loss: 0.6717 - accuracy: 0.62 - ETA: 6s - loss: 0.6695 - accuracy: 0.63 - ETA: 6s - loss: 0.6719 - accuracy: 0.62 - ETA: 6s - loss: 0.6707 - accuracy: 0.62 - ETA: 6s - loss: 0.6688 - accuracy: 0.62 - ETA: 5s - loss: 0.6699 - accuracy: 0.62 - ETA: 5s - loss: 0.6686 - accuracy: 0.62 - ETA: 5s - loss: 0.6696 - accuracy: 0.62 - ETA: 5s - loss: 0.6694 - accuracy: 0.62 - ETA: 5s - loss: 0.6712 - accuracy: 0.62 - ETA: 5s - loss: 0.6704 - accuracy: 0.62 - ETA: 5s - loss: 0.6697 - accuracy: 0.62 - ETA: 5s - loss: 0.6682 - accuracy: 0.62 - ETA: 5s - loss: 0.6666 - accuracy: 0.62 - ETA: 5s - loss: 0.6675 - accuracy: 0.62 - ETA: 4s - loss: 0.6669 - accuracy: 0.62 - ETA: 4s - loss: 0.6683 - accuracy: 0.62 - ETA: 4s - loss: 0.6699 - accuracy: 0.62 - ETA: 4s - loss: 0.6700 - accuracy: 0.62 - ETA: 4s - loss: 0.6693 - accuracy: 0.62 - ETA: 4s - loss: 0.6693 - accuracy: 0.62 - ETA: 4s - loss: 0.6689 - accuracy: 0.62 - ETA: 4s - loss: 0.6680 - accuracy: 0.62 - ETA: 4s - loss: 0.6690 - accuracy: 0.62 - ETA: 3s - loss: 0.6687 - accuracy: 0.62 - ETA: 3s - loss: 0.6682 - accuracy: 0.62 - ETA: 3s - loss: 0.6672 - accuracy: 0.62 - ETA: 3s - loss: 0.6672 - accuracy: 0.62 - ETA: 3s - loss: 0.6677 - accuracy: 0.62 - ETA: 3s - loss: 0.6677 - accuracy: 0.61 - ETA: 3s - loss: 0.6679 - accuracy: 0.61 - ETA: 3s - loss: 0.6672 - accuracy: 0.62 - ETA: 3s - loss: 0.6671 - accuracy: 0.62 - ETA: 2s - loss: 0.6663 - accuracy: 0.62 - ETA: 2s - loss: 0.6679 - accuracy: 0.61 - ETA: 2s - loss: 0.6698 - accuracy: 0.61 - ETA: 2s - loss: 0.6703 - accuracy: 0.61 - ETA: 2s - loss: 0.6698 - accuracy: 0.61 - ETA: 2s - loss: 0.6695 - accuracy: 0.61 - ETA: 2s - loss: 0.6703 - accuracy: 0.61 - ETA: 2s - loss: 0.6719 - accuracy: 0.61 - ETA: 2s - loss: 0.6722 - accuracy: 0.61 - ETA: 1s - loss: 0.6722 - accuracy: 0.61 - ETA: 1s - loss: 0.6715 - accuracy: 0.61 - ETA: 1s - loss: 0.6704 - accuracy: 0.61 - ETA: 1s - loss: 0.6724 - accuracy: 0.61 - ETA: 1s - loss: 0.6726 - accuracy: 0.61 - ETA: 1s - loss: 0.6719 - accuracy: 0.61 - ETA: 1s - loss: 0.6728 - accuracy: 0.61 - ETA: 1s - loss: 0.6735 - accuracy: 0.61 - ETA: 1s - loss: 0.6733 - accuracy: 0.61 - ETA: 0s - loss: 0.6729 - accuracy: 0.61 - ETA: 0s - loss: 0.6724 - accuracy: 0.61 - ETA: 0s - loss: 0.6716 - accuracy: 0.61 - ETA: 0s - loss: 0.6717 - accuracy: 0.61 - ETA: 0s - loss: 0.6729 - accuracy: 0.61 - ETA: 0s - loss: 0.6728 - accuracy: 0.61 - ETA: 0s - loss: 0.6729 - accuracy: 0.61 - ETA: 0s - loss: 0.6729 - accuracy: 0.61 - ETA: 0s - loss: 0.6724 - accuracy: 0.61 - ETA: 0s - loss: 0.6723 - accuracy: 0.61 - 10s 109ms/step - loss: 0.6723 - accuracy: 0.6136\n"
     ]
    },
    {
     "data": {
      "text/plain": [
       "[0.6723299622535706, 0.613598108291626]"
      ]
     },
     "execution_count": 75,
     "metadata": {},
     "output_type": "execute_result"
    }
   ],
   "source": [
    "model.evaluate(X_test_pad,y_test)  "
   ]
  },
  {
   "cell_type": "markdown",
   "metadata": {
    "id": "3BZaVPcSEZNl"
   },
   "source": [
    "## Performance Evaluation of model on test data set"
   ]
  },
  {
   "cell_type": "code",
   "execution_count": 76,
   "metadata": {
    "id": "qYWiWyaHEice"
   },
   "outputs": [],
   "source": [
    "y_test_predict = model.predict(X_test_pad)\n",
    "y_predict = np.where(y_test_predict > 0.5,1,0)\n",
    "y_pred = [item for sublist in y_predict for item in sublist]"
   ]
  },
  {
   "cell_type": "code",
   "execution_count": 77,
   "metadata": {
    "id": "76ZPeLQ_EnMa"
   },
   "outputs": [],
   "source": [
    "from sklearn.metrics import classification_report"
   ]
  },
  {
   "cell_type": "code",
   "execution_count": 78,
   "metadata": {},
   "outputs": [
    {
     "name": "stdout",
     "output_type": "stream",
     "text": [
      "              precision    recall  f1-score   support\n",
      "\n",
      "     class 0       0.67      0.65      0.66      1719\n",
      "     class 1       0.54      0.56      0.55      1252\n",
      "\n",
      "    accuracy                           0.61      2971\n",
      "   macro avg       0.61      0.61      0.61      2971\n",
      "weighted avg       0.62      0.61      0.61      2971\n",
      "\n"
     ]
    }
   ],
   "source": [
    "target_names = ['class 0', 'class 1']\n",
    "print(classification_report(y_test, y_pred, target_names=target_names))"
   ]
  },
  {
   "cell_type": "markdown",
   "metadata": {},
   "source": [
    "## Error Analysis"
   ]
  },
  {
   "cell_type": "code",
   "execution_count": 79,
   "metadata": {},
   "outputs": [
    {
     "data": {
      "text/plain": [
       "<sklearn.metrics._plot.confusion_matrix.ConfusionMatrixDisplay at 0x195f86c4828>"
      ]
     },
     "execution_count": 79,
     "metadata": {},
     "output_type": "execute_result"
    },
    {
     "data": {
      "image/png": "[encoded data removed]",
      "text/plain": [
       "<Figure size 432x288 with 2 Axes>"
      ]
     },
     "metadata": {
      "needs_background": "light"
     },
     "output_type": "display_data"
    }
   ],
   "source": [
    "from sklearn.metrics import confusion_matrix, ConfusionMatrixDisplay\n",
    "cm = confusion_matrix(y_test, y_pred,labels=[0, 1])\n",
    "disp = ConfusionMatrixDisplay(confusion_matrix=cm, display_labels=[0, 1])\n",
    "disp.plot()"
   ]
  },
  {
   "cell_type": "code",
   "execution_count": 80,
   "metadata": {},
   "outputs": [],
   "source": [
    "tn, fp, fn, tp = confusion_matrix(y_test, y_pred).ravel()\n"
   ]
  },
  {
   "cell_type": "code",
   "execution_count": 81,
   "metadata": {},
   "outputs": [
    {
     "name": "stdout",
     "output_type": "stream",
     "text": [
      "False positive rate -  0.3467132053519488\n",
      "False negative rate -  0.44089456869009586\n"
     ]
    }
   ],
   "source": [
    "fpr = fp / (fp + tn)\n",
    "print('False positive rate - ', fpr)\n",
    "fnr = fn / (fn + tp)\n",
    "print('False negative rate - ', fnr)"
   ]
  },
  {
   "cell_type": "code",
   "execution_count": 82,
   "metadata": {},
   "outputs": [],
   "source": [
    "result_eval = pd.DataFrame({'Predicted' : y_pred, 'Actual' : y_test})"
   ]
  },
  {
   "cell_type": "code",
   "execution_count": 83,
   "metadata": {},
   "outputs": [],
   "source": [
    "# Get 10 false positives indices to find their texts\n",
    "fp_index = result_eval[(result_eval['Predicted'] == 1) & (result_eval['Actual'] == 0)].index.values[:5]"
   ]
  },
  {
   "cell_type": "code",
   "execution_count": 84,
   "metadata": {},
   "outputs": [
    {
     "data": {
      "text/html": [
       "<div>\n",
       "<style scoped>\n",
       "    .dataframe tbody tr th:only-of-type {\n",
       "        vertical-align: middle;\n",
       "    }\n",
       "\n",
       "    .dataframe tbody tr th {\n",
       "        vertical-align: top;\n",
       "    }\n",
       "\n",
       "    .dataframe thead th {\n",
       "        text-align: right;\n",
       "    }\n",
       "</style>\n",
       "<table border=\"1\" class=\"dataframe\">\n",
       "  <thead>\n",
       "    <tr style=\"text-align: right;\">\n",
       "      <th></th>\n",
       "      <th>id</th>\n",
       "      <th>text</th>\n",
       "      <th>HS</th>\n",
       "      <th>TR</th>\n",
       "      <th>AG</th>\n",
       "      <th>cleaned_tweets</th>\n",
       "      <th>tokens</th>\n",
       "    </tr>\n",
       "  </thead>\n",
       "  <tbody>\n",
       "    <tr>\n",
       "      <th>3</th>\n",
       "      <td>31224</td>\n",
       "      <td>&gt;Harasses women and calls them bitch and crabby  &gt;They block him  &gt;Plays the victim https://t.co/gmraGDtcQm</td>\n",
       "      <td>0</td>\n",
       "      <td>0</td>\n",
       "      <td>0</td>\n",
       "      <td>harasses woman call bitch crabby block play victim</td>\n",
       "      <td>[harasses, woman, call, bitch, crabby, block, play, victim]</td>\n",
       "    </tr>\n",
       "    <tr>\n",
       "      <th>4</th>\n",
       "      <td>31139</td>\n",
       "      <td>Bitch you ain't gotta call my phone, matter fact all you hoes can leave me alone!! 💯</td>\n",
       "      <td>0</td>\n",
       "      <td>0</td>\n",
       "      <td>0</td>\n",
       "      <td>bitch ain't gotta call phone matter fact hoe leave alone 💯</td>\n",
       "      <td>[bitch, ain't, gotta, call, phone, matter, fact, hoe, leave, alone, 💯]</td>\n",
       "    </tr>\n",
       "    <tr>\n",
       "      <th>12</th>\n",
       "      <td>34138</td>\n",
       "      <td>He is a snake ass bitch. He is a fugly slut who shouldn't be trusted and I'm patiently waiting for him to be 18 cuz… https://t.co/NbezBfDPQ4</td>\n",
       "      <td>0</td>\n",
       "      <td>0</td>\n",
       "      <td>0</td>\n",
       "      <td>snake as bitch fugly slut trust i'm patiently wait cuz …</td>\n",
       "      <td>[snake, as, bitch, fugly, slut, trust, i'm, patiently, wait, cuz, …]</td>\n",
       "    </tr>\n",
       "    <tr>\n",
       "      <th>13</th>\n",
       "      <td>34165</td>\n",
       "      <td>You seem like a hoe    Ok bitch? Did I ever deny that?   Nope, Next.</td>\n",
       "      <td>0</td>\n",
       "      <td>0</td>\n",
       "      <td>0</td>\n",
       "      <td>seem like hoe ok bitch ever deny nope next</td>\n",
       "      <td>[seem, like, hoe, ok, bitch, ever, deny, nope, next]</td>\n",
       "    </tr>\n",
       "    <tr>\n",
       "      <th>15</th>\n",
       "      <td>33150</td>\n",
       "      <td>happy bday to my big boobie bitch🎉❤️ily and im so sad i cant be there with u to celebrate but dw u hoe we'll party… https://t.co/MxNNWmSnZB</td>\n",
       "      <td>0</td>\n",
       "      <td>0</td>\n",
       "      <td>0</td>\n",
       "      <td>happy bday big boobie bitch 🎉 ❤ ️ily im sad cant u celebrate dw u hoe we'll party …</td>\n",
       "      <td>[happy, bday, big, boobie, bitch, 🎉, ❤, ️ily, im, sad, cant, u, celebrate, dw, u, hoe, we'll, party, …]</td>\n",
       "    </tr>\n",
       "  </tbody>\n",
       "</table>\n",
       "</div>"
      ],
      "text/plain": [
       "       id  \\\n",
       "3   31224   \n",
       "4   31139   \n",
       "12  34138   \n",
       "13  34165   \n",
       "15  33150   \n",
       "\n",
       "                                                                                                                                            text  \\\n",
       "3                                    >Harasses women and calls them bitch and crabby  >They block him  >Plays the victim https://t.co/gmraGDtcQm   \n",
       "4                                                           Bitch you ain't gotta call my phone, matter fact all you hoes can leave me alone!! 💯   \n",
       "12  He is a snake ass bitch. He is a fugly slut who shouldn't be trusted and I'm patiently waiting for him to be 18 cuz… https://t.co/NbezBfDPQ4   \n",
       "13                                                                          You seem like a hoe    Ok bitch? Did I ever deny that?   Nope, Next.   \n",
       "15   happy bday to my big boobie bitch🎉❤️ily and im so sad i cant be there with u to celebrate but dw u hoe we'll party… https://t.co/MxNNWmSnZB   \n",
       "\n",
       "    HS  TR  AG  \\\n",
       "3    0   0   0   \n",
       "4    0   0   0   \n",
       "12   0   0   0   \n",
       "13   0   0   0   \n",
       "15   0   0   0   \n",
       "\n",
       "                                                                         cleaned_tweets  \\\n",
       "3                                    harasses woman call bitch crabby block play victim   \n",
       "4                            bitch ain't gotta call phone matter fact hoe leave alone 💯   \n",
       "12                             snake as bitch fugly slut trust i'm patiently wait cuz …   \n",
       "13                                           seem like hoe ok bitch ever deny nope next   \n",
       "15  happy bday big boobie bitch 🎉 ❤ ️ily im sad cant u celebrate dw u hoe we'll party …   \n",
       "\n",
       "                                                                                                     tokens  \n",
       "3                                               [harasses, woman, call, bitch, crabby, block, play, victim]  \n",
       "4                                    [bitch, ain't, gotta, call, phone, matter, fact, hoe, leave, alone, 💯]  \n",
       "12                                     [snake, as, bitch, fugly, slut, trust, i'm, patiently, wait, cuz, …]  \n",
       "13                                                     [seem, like, hoe, ok, bitch, ever, deny, nope, next]  \n",
       "15  [happy, bday, big, boobie, bitch, 🎉, ❤, ️ily, im, sad, cant, u, celebrate, dw, u, hoe, we'll, party, …]  "
      ]
     },
     "execution_count": 84,
     "metadata": {},
     "output_type": "execute_result"
    }
   ],
   "source": [
    "test.iloc[fp_index, :]"
   ]
  },
  {
   "cell_type": "code",
   "execution_count": 85,
   "metadata": {},
   "outputs": [],
   "source": [
    "# Get 10 false negative indices to find their texts\n",
    "fn_index = result_eval[(result_eval['Predicted'] == 0) & (result_eval['Actual'] == 1)].index.values[:5]"
   ]
  },
  {
   "cell_type": "code",
   "execution_count": 86,
   "metadata": {},
   "outputs": [
    {
     "data": {
      "text/html": [
       "<div>\n",
       "<style scoped>\n",
       "    .dataframe tbody tr th:only-of-type {\n",
       "        vertical-align: middle;\n",
       "    }\n",
       "\n",
       "    .dataframe tbody tr th {\n",
       "        vertical-align: top;\n",
       "    }\n",
       "\n",
       "    .dataframe thead th {\n",
       "        text-align: right;\n",
       "    }\n",
       "</style>\n",
       "<table border=\"1\" class=\"dataframe\">\n",
       "  <thead>\n",
       "    <tr style=\"text-align: right;\">\n",
       "      <th></th>\n",
       "      <th>id</th>\n",
       "      <th>text</th>\n",
       "      <th>HS</th>\n",
       "      <th>TR</th>\n",
       "      <th>AG</th>\n",
       "      <th>cleaned_tweets</th>\n",
       "      <th>tokens</th>\n",
       "    </tr>\n",
       "  </thead>\n",
       "  <tbody>\n",
       "    <tr>\n",
       "      <th>9</th>\n",
       "      <td>30072</td>\n",
       "      <td>@christianllamar @LindseyGrahamSC stop w 'we have to worry about the children' No we do not-many R &gt;20yrs old Go home and make your country better or enter ours legally #NoDACA we can't afford them</td>\n",
       "      <td>1</td>\n",
       "      <td>0</td>\n",
       "      <td>0</td>\n",
       "      <td>stop w worry child not-many r yr old go home make country better enter legally #nodaca can't afford</td>\n",
       "      <td>[stop, w, worry, child, not-many, r, yr, old, go, home, make, country, better, enter, legally, #nodaca, can't, afford]</td>\n",
       "    </tr>\n",
       "    <tr>\n",
       "      <th>11</th>\n",
       "      <td>33818</td>\n",
       "      <td>Im going to explode if I have to listen to these entitled, privileged cunts bitch for ONE MORE SECOND about their inconvenient FREE flights</td>\n",
       "      <td>1</td>\n",
       "      <td>0</td>\n",
       "      <td>0</td>\n",
       "      <td>im go explode listen entitle privileged cunt bitch one second inconvenient free flight</td>\n",
       "      <td>[im, go, explode, listen, entitle, privileged, cunt, bitch, one, second, inconvenient, free, flight]</td>\n",
       "    </tr>\n",
       "    <tr>\n",
       "      <th>17</th>\n",
       "      <td>32162</td>\n",
       "      <td>Argentina imported tons of Mestizos and they went from a first world country to another third world Latin American shithole. This is what's in store for America if we #AbolishICE. #BuildTheDamnWall #DeportThemAll #SupportICE #KAG</td>\n",
       "      <td>1</td>\n",
       "      <td>0</td>\n",
       "      <td>0</td>\n",
       "      <td>argentina import ton mestizos go first world country another third world latin american shithole what's store america #abolishice #buildthedamnwall #deportthemall #supportice #kag</td>\n",
       "      <td>[argentina, import, ton, mestizos, go, first, world, country, another, third, world, latin, american, shithole, what's, store, america, #abolishice, #buildthedamnwall, #deportthemall, #supportice, #kag]</td>\n",
       "    </tr>\n",
       "    <tr>\n",
       "      <th>26</th>\n",
       "      <td>33238</td>\n",
       "      <td>is PROOF that theyre more privleged. also my bitch mother wont bring my pizza rolls up here like the lazy cunt she is so brb.</td>\n",
       "      <td>1</td>\n",
       "      <td>1</td>\n",
       "      <td>0</td>\n",
       "      <td>proof theyre privleged also bitch mother wont bring pizza roll like lazy cunt brb</td>\n",
       "      <td>[proof, theyre, privleged, also, bitch, mother, wont, bring, pizza, roll, like, lazy, cunt, brb]</td>\n",
       "    </tr>\n",
       "    <tr>\n",
       "      <th>27</th>\n",
       "      <td>31004</td>\n",
       "      <td>Tell that bitch to pay me if she EVER tryna rape me</td>\n",
       "      <td>1</td>\n",
       "      <td>1</td>\n",
       "      <td>0</td>\n",
       "      <td>tell bitch pay ever tryna rape</td>\n",
       "      <td>[tell, bitch, pay, ever, tryna, rape]</td>\n",
       "    </tr>\n",
       "  </tbody>\n",
       "</table>\n",
       "</div>"
      ],
      "text/plain": [
       "       id  \\\n",
       "9   30072   \n",
       "11  33818   \n",
       "17  32162   \n",
       "26  33238   \n",
       "27  31004   \n",
       "\n",
       "                                                                                                                                                                                                                                     text  \\\n",
       "9                                   @christianllamar @LindseyGrahamSC stop w 'we have to worry about the children' No we do not-many R >20yrs old Go home and make your country better or enter ours legally #NoDACA we can't afford them   \n",
       "11                                                                                            Im going to explode if I have to listen to these entitled, privileged cunts bitch for ONE MORE SECOND about their inconvenient FREE flights   \n",
       "17  Argentina imported tons of Mestizos and they went from a first world country to another third world Latin American shithole. This is what's in store for America if we #AbolishICE. #BuildTheDamnWall #DeportThemAll #SupportICE #KAG   \n",
       "26                                                                                                          is PROOF that theyre more privleged. also my bitch mother wont bring my pizza rolls up here like the lazy cunt she is so brb.   \n",
       "27                                                                                                                                                                                    Tell that bitch to pay me if she EVER tryna rape me   \n",
       "\n",
       "    HS  TR  AG  \\\n",
       "9    1   0   0   \n",
       "11   1   0   0   \n",
       "17   1   0   0   \n",
       "26   1   1   0   \n",
       "27   1   1   0   \n",
       "\n",
       "                                                                                                                                                                         cleaned_tweets  \\\n",
       "9                                                                                   stop w worry child not-many r yr old go home make country better enter legally #nodaca can't afford   \n",
       "11                                                                                               im go explode listen entitle privileged cunt bitch one second inconvenient free flight   \n",
       "17  argentina import ton mestizos go first world country another third world latin american shithole what's store america #abolishice #buildthedamnwall #deportthemall #supportice #kag   \n",
       "26                                                                                                    proof theyre privleged also bitch mother wont bring pizza roll like lazy cunt brb   \n",
       "27                                                                                                                                                       tell bitch pay ever tryna rape   \n",
       "\n",
       "                                                                                                                                                                                                        tokens  \n",
       "9                                                                                       [stop, w, worry, child, not-many, r, yr, old, go, home, make, country, better, enter, legally, #nodaca, can't, afford]  \n",
       "11                                                                                                        [im, go, explode, listen, entitle, privileged, cunt, bitch, one, second, inconvenient, free, flight]  \n",
       "17  [argentina, import, ton, mestizos, go, first, world, country, another, third, world, latin, american, shithole, what's, store, america, #abolishice, #buildthedamnwall, #deportthemall, #supportice, #kag]  \n",
       "26                                                                                                            [proof, theyre, privleged, also, bitch, mother, wont, bring, pizza, roll, like, lazy, cunt, brb]  \n",
       "27                                                                                                                                                                       [tell, bitch, pay, ever, tryna, rape]  "
      ]
     },
     "execution_count": 86,
     "metadata": {},
     "output_type": "execute_result"
    }
   ],
   "source": [
    "pd.set_option('display.max_colwidth', None)\n",
    "test.iloc[fn_index, :]"
   ]
  },
  {
   "cell_type": "markdown",
   "metadata": {},
   "source": [
    "## Train the model on the augmented data\n",
    "\n",
    "This technique of data augmententation is done using the method described in  http://github.com/jasonwei20/eda_nlp"
   ]
  },
  {
   "cell_type": "code",
   "execution_count": 87,
   "metadata": {},
   "outputs": [],
   "source": [
    "df_new_train = pd.read_csv(\"eda_train.txt\",sep=\"\\t\",header=None,names = ['HS', 'text'])"
   ]
  },
  {
   "cell_type": "code",
   "execution_count": 88,
   "metadata": {},
   "outputs": [
    {
     "data": {
      "text/plain": [
       "(90000, 2)"
      ]
     },
     "execution_count": 88,
     "metadata": {},
     "output_type": "execute_result"
    }
   ],
   "source": [
    "df_new_train.shape"
   ]
  },
  {
   "cell_type": "code",
   "execution_count": 89,
   "metadata": {},
   "outputs": [
    {
     "data": {
      "text/html": [
       "<div>\n",
       "<style scoped>\n",
       "    .dataframe tbody tr th:only-of-type {\n",
       "        vertical-align: middle;\n",
       "    }\n",
       "\n",
       "    .dataframe tbody tr th {\n",
       "        vertical-align: top;\n",
       "    }\n",
       "\n",
       "    .dataframe thead th {\n",
       "        text-align: right;\n",
       "    }\n",
       "</style>\n",
       "<table border=\"1\" class=\"dataframe\">\n",
       "  <thead>\n",
       "    <tr style=\"text-align: right;\">\n",
       "      <th></th>\n",
       "      <th>HS</th>\n",
       "      <th>text</th>\n",
       "    </tr>\n",
       "  </thead>\n",
       "  <tbody>\n",
       "    <tr>\n",
       "      <th>0</th>\n",
       "      <td>1</td>\n",
       "      <td>hurray saving us in many ways potus realdonaldtrump lockthemup buildthewall enddaca boycottnfl</td>\n",
       "    </tr>\n",
       "    <tr>\n",
       "      <th>1</th>\n",
       "      <td>1</td>\n",
       "      <td>hurray saving us in so many ways potus realdonaldtrump lockthemup buildthewall boycottnfl boycottnike</td>\n",
       "    </tr>\n",
       "    <tr>\n",
       "      <th>2</th>\n",
       "      <td>1</td>\n",
       "      <td>hurray saving us in so many ways potus realdonaldtrump lockthemup buildthewall enddaca keep boycottnfl boycottnike</td>\n",
       "    </tr>\n",
       "    <tr>\n",
       "      <th>3</th>\n",
       "      <td>1</td>\n",
       "      <td>potus saving us in so many ways hurray realdonaldtrump lockthemup buildthewall enddaca boycottnfl boycottnike</td>\n",
       "    </tr>\n",
       "    <tr>\n",
       "      <th>4</th>\n",
       "      <td>1</td>\n",
       "      <td>hurray saving us in so many ways enddaca realdonaldtrump lockthemup buildthewall potus boycottnfl boycottnike</td>\n",
       "    </tr>\n",
       "  </tbody>\n",
       "</table>\n",
       "</div>"
      ],
      "text/plain": [
       "   HS  \\\n",
       "0   1   \n",
       "1   1   \n",
       "2   1   \n",
       "3   1   \n",
       "4   1   \n",
       "\n",
       "                                                                                                                 text  \n",
       "0                      hurray saving us in many ways potus realdonaldtrump lockthemup buildthewall enddaca boycottnfl  \n",
       "1               hurray saving us in so many ways potus realdonaldtrump lockthemup buildthewall boycottnfl boycottnike  \n",
       "2  hurray saving us in so many ways potus realdonaldtrump lockthemup buildthewall enddaca keep boycottnfl boycottnike  \n",
       "3       potus saving us in so many ways hurray realdonaldtrump lockthemup buildthewall enddaca boycottnfl boycottnike  \n",
       "4       hurray saving us in so many ways enddaca realdonaldtrump lockthemup buildthewall potus boycottnfl boycottnike  "
      ]
     },
     "execution_count": 89,
     "metadata": {},
     "output_type": "execute_result"
    }
   ],
   "source": [
    "df_new_train.head(5)"
   ]
  },
  {
   "cell_type": "code",
   "execution_count": 133,
   "metadata": {},
   "outputs": [],
   "source": [
    "# shuffle the data set\n",
    "df_new_train = df_new_train.sample(frac=1,axis=0).reset_index(drop=True)\n",
    "# Pre-process training data\n",
    "train_new = preprocess_data(df_new_train)"
   ]
  },
  {
   "cell_type": "code",
   "execution_count": 134,
   "metadata": {},
   "outputs": [],
   "source": [
    "x_train = train_new.cleaned_tweets.values\n",
    "y_train = df_new_train.HS.values"
   ]
  },
  {
   "cell_type": "code",
   "execution_count": 135,
   "metadata": {},
   "outputs": [
    {
     "data": {
      "text/plain": [
       "(90000,)"
      ]
     },
     "execution_count": 135,
     "metadata": {},
     "output_type": "execute_result"
    }
   ],
   "source": [
    "x_train.shape"
   ]
  },
  {
   "cell_type": "code",
   "execution_count": 136,
   "metadata": {},
   "outputs": [],
   "source": [
    "# create the tokenizer\n",
    "tokenizer_obj = Tokenizer()\n",
    "# fit the tokenizer on the training input data\n",
    "tokenizer_obj.fit_on_texts(x_train)"
   ]
  },
  {
   "cell_type": "code",
   "execution_count": 137,
   "metadata": {},
   "outputs": [],
   "source": [
    "# Encode the tweets in the training dataset\n",
    "X_train_tokens = tokenizer_obj.texts_to_sequences(x_train)\n",
    "# Encode the tweets in the test dataset\n",
    "X_test_tokens = tokenizer_obj.texts_to_sequences(x_test)\n",
    "# Encode the tweets in the validation dataset\n",
    "X_dev_tokens = tokenizer_obj.texts_to_sequences(x_val)"
   ]
  },
  {
   "cell_type": "code",
   "execution_count": 138,
   "metadata": {},
   "outputs": [],
   "source": [
    "# Pad all tweets (training, test and validation) to the length of the longest review in the training dataset.\n",
    "max_length = max([len(s.split()) for s in x_train])\n",
    "X_train_pad = pad_sequences(X_train_tokens, maxlen = max_length, padding = 'post')\n",
    "X_test_pad = pad_sequences(X_test_tokens, maxlen = max_length, padding = 'post')\n",
    "X_dev_pad = pad_sequences(X_dev_tokens, maxlen = max_length, padding = 'post')"
   ]
  },
  {
   "cell_type": "code",
   "execution_count": 139,
   "metadata": {},
   "outputs": [],
   "source": [
    "num_words = len(tokenizer_obj.word_index) + 1\n",
    "model = Sequential()\n",
    "model.add(Embedding(num_words,48))\n",
    "model.add(Bidirectional(LSTM(320)))\n",
    "model.add(Dropout(0.1))\n",
    "#model.add(Dropout(0.5))\n",
    "model.add(Dense(320, activation='sigmoid'))\n",
    "model.add(Dropout(0.1))\n",
    "#model.add(Dropout(0.5))\n",
    "model.add(Dense(1, activation='sigmoid'))\n",
    "model.compile(loss='binary_crossentropy', metrics=['accuracy'], optimizer=keras.optimizers.Adam(learning_rate = 0.001))\n",
    "  "
   ]
  },
  {
   "cell_type": "code",
   "execution_count": 140,
   "metadata": {},
   "outputs": [
    {
     "name": "stdout",
     "output_type": "stream",
     "text": [
      "Epoch 1/10\n",
      "10/10 - 603s - loss: 0.6910 - accuracy: 0.5551 - val_loss: 0.6807 - val_accuracy: 0.5730\n",
      "Epoch 2/10\n",
      "10/10 - 709s - loss: 0.6633 - accuracy: 0.6048 - val_loss: 0.6714 - val_accuracy: 0.6090\n",
      "Epoch 3/10\n",
      "10/10 - 787s - loss: 0.5440 - accuracy: 0.7382 - val_loss: 0.6292 - val_accuracy: 0.6940\n",
      "Epoch 4/10\n",
      "10/10 - 793s - loss: 0.3566 - accuracy: 0.8478 - val_loss: 0.6096 - val_accuracy: 0.7000\n",
      "Epoch 5/10\n",
      "10/10 - 810s - loss: 0.2310 - accuracy: 0.9094 - val_loss: 0.8252 - val_accuracy: 0.6890\n",
      "Epoch 6/10\n",
      "10/10 - 869s - loss: 0.1512 - accuracy: 0.9421 - val_loss: 0.8532 - val_accuracy: 0.6940\n",
      "Epoch 7/10\n",
      "10/10 - 3113s - loss: 0.0945 - accuracy: 0.9673 - val_loss: 0.9908 - val_accuracy: 0.6800\n",
      "Epoch 8/10\n",
      "10/10 - 746s - loss: 0.0655 - accuracy: 0.9784 - val_loss: 1.2428 - val_accuracy: 0.6690\n",
      "Epoch 9/10\n",
      "10/10 - 831s - loss: 0.0474 - accuracy: 0.9849 - val_loss: 1.4068 - val_accuracy: 0.6740\n"
     ]
    }
   ],
   "source": [
    "history1 = model.fit(X_train_pad, y_train, batch_size = 9000,epochs = 10, verbose =2,\n",
    "                          validation_data= (X_dev_pad, y_val),callbacks=[early_stopping])"
   ]
  },
  {
   "cell_type": "code",
   "execution_count": 141,
   "metadata": {},
   "outputs": [
    {
     "name": "stdout",
     "output_type": "stream",
     "text": [
      "93/93 [==============================] - ETA: 10s - loss: 3.2776 - accuracy: 0.468 - ETA: 9s - loss: 3.0019 - accuracy: 0.531 - ETA: 9s - loss: 3.0360 - accuracy: 0.54 - ETA: 9s - loss: 2.8908 - accuracy: 0.52 - ETA: 8s - loss: 2.8800 - accuracy: 0.53 - ETA: 8s - loss: 2.8199 - accuracy: 0.53 - ETA: 8s - loss: 2.8179 - accuracy: 0.53 - ETA: 8s - loss: 2.6185 - accuracy: 0.53 - ETA: 8s - loss: 2.6363 - accuracy: 0.52 - ETA: 8s - loss: 2.6333 - accuracy: 0.50 - ETA: 8s - loss: 2.6889 - accuracy: 0.51 - ETA: 8s - loss: 2.6992 - accuracy: 0.51 - ETA: 7s - loss: 2.7007 - accuracy: 0.51 - ETA: 7s - loss: 2.6504 - accuracy: 0.52 - ETA: 7s - loss: 2.5915 - accuracy: 0.53 - ETA: 7s - loss: 2.5561 - accuracy: 0.53 - ETA: 7s - loss: 2.5825 - accuracy: 0.53 - ETA: 7s - loss: 2.6046 - accuracy: 0.52 - ETA: 7s - loss: 2.6007 - accuracy: 0.53 - ETA: 7s - loss: 2.6095 - accuracy: 0.53 - ETA: 7s - loss: 2.5768 - accuracy: 0.53 - ETA: 7s - loss: 2.5560 - accuracy: 0.53 - ETA: 6s - loss: 2.5521 - accuracy: 0.53 - ETA: 6s - loss: 2.5421 - accuracy: 0.53 - ETA: 6s - loss: 2.5392 - accuracy: 0.53 - ETA: 6s - loss: 2.5640 - accuracy: 0.53 - ETA: 6s - loss: 2.5963 - accuracy: 0.52 - ETA: 6s - loss: 2.5955 - accuracy: 0.52 - ETA: 6s - loss: 2.6003 - accuracy: 0.52 - ETA: 6s - loss: 2.6048 - accuracy: 0.52 - ETA: 6s - loss: 2.6040 - accuracy: 0.52 - ETA: 6s - loss: 2.5774 - accuracy: 0.53 - ETA: 5s - loss: 2.5649 - accuracy: 0.53 - ETA: 5s - loss: 2.5663 - accuracy: 0.53 - ETA: 5s - loss: 2.5722 - accuracy: 0.52 - ETA: 5s - loss: 2.5640 - accuracy: 0.53 - ETA: 5s - loss: 2.5843 - accuracy: 0.52 - ETA: 5s - loss: 2.6028 - accuracy: 0.52 - ETA: 5s - loss: 2.6023 - accuracy: 0.52 - ETA: 5s - loss: 2.5904 - accuracy: 0.53 - ETA: 5s - loss: 2.5944 - accuracy: 0.52 - ETA: 5s - loss: 2.6069 - accuracy: 0.52 - ETA: 5s - loss: 2.6118 - accuracy: 0.52 - ETA: 4s - loss: 2.6323 - accuracy: 0.52 - ETA: 4s - loss: 2.6090 - accuracy: 0.52 - ETA: 4s - loss: 2.6339 - accuracy: 0.52 - ETA: 4s - loss: 2.6621 - accuracy: 0.51 - ETA: 4s - loss: 2.6621 - accuracy: 0.51 - ETA: 4s - loss: 2.6573 - accuracy: 0.51 - ETA: 4s - loss: 2.6540 - accuracy: 0.52 - ETA: 4s - loss: 2.6506 - accuracy: 0.52 - ETA: 4s - loss: 2.6516 - accuracy: 0.52 - ETA: 4s - loss: 2.6575 - accuracy: 0.52 - ETA: 3s - loss: 2.6529 - accuracy: 0.52 - ETA: 3s - loss: 2.6624 - accuracy: 0.52 - ETA: 3s - loss: 2.6843 - accuracy: 0.51 - ETA: 3s - loss: 2.6667 - accuracy: 0.52 - ETA: 3s - loss: 2.6634 - accuracy: 0.52 - ETA: 3s - loss: 2.6586 - accuracy: 0.52 - ETA: 3s - loss: 2.6386 - accuracy: 0.52 - ETA: 3s - loss: 2.6399 - accuracy: 0.52 - ETA: 3s - loss: 2.6175 - accuracy: 0.52 - ETA: 3s - loss: 2.5957 - accuracy: 0.52 - ETA: 2s - loss: 2.5917 - accuracy: 0.52 - ETA: 2s - loss: 2.6035 - accuracy: 0.52 - ETA: 2s - loss: 2.6219 - accuracy: 0.52 - ETA: 2s - loss: 2.6352 - accuracy: 0.52 - ETA: 2s - loss: 2.6446 - accuracy: 0.52 - ETA: 2s - loss: 2.6494 - accuracy: 0.52 - ETA: 2s - loss: 2.6676 - accuracy: 0.52 - ETA: 2s - loss: 2.6725 - accuracy: 0.52 - ETA: 2s - loss: 2.6681 - accuracy: 0.52 - ETA: 2s - loss: 2.6675 - accuracy: 0.52 - ETA: 1s - loss: 2.6711 - accuracy: 0.51 - ETA: 1s - loss: 2.6570 - accuracy: 0.52 - ETA: 1s - loss: 2.6636 - accuracy: 0.52 - ETA: 1s - loss: 2.6663 - accuracy: 0.52 - ETA: 1s - loss: 2.6566 - accuracy: 0.52 - ETA: 1s - loss: 2.6580 - accuracy: 0.52 - ETA: 1s - loss: 2.6497 - accuracy: 0.52 - ETA: 1s - loss: 2.6603 - accuracy: 0.52 - ETA: 1s - loss: 2.6648 - accuracy: 0.51 - ETA: 1s - loss: 2.6664 - accuracy: 0.51 - ETA: 0s - loss: 2.6647 - accuracy: 0.51 - ETA: 0s - loss: 2.6712 - accuracy: 0.51 - ETA: 0s - loss: 2.6726 - accuracy: 0.51 - ETA: 0s - loss: 2.6699 - accuracy: 0.51 - ETA: 0s - loss: 2.6707 - accuracy: 0.51 - ETA: 0s - loss: 2.6691 - accuracy: 0.51 - ETA: 0s - loss: 2.6659 - accuracy: 0.51 - ETA: 0s - loss: 2.6670 - accuracy: 0.51 - ETA: 0s - loss: 2.6734 - accuracy: 0.51 - ETA: 0s - loss: 2.6671 - accuracy: 0.51 - 9s 101ms/step - loss: 2.6671 - accuracy: 0.5197\n"
     ]
    },
    {
     "data": {
      "text/plain": [
       "[2.667123317718506, 0.5196903347969055]"
      ]
     },
     "execution_count": 141,
     "metadata": {},
     "output_type": "execute_result"
    }
   ],
   "source": [
    "model.evaluate(X_test_pad,y_test)  "
   ]
  },
  {
   "cell_type": "code",
   "execution_count": 142,
   "metadata": {},
   "outputs": [],
   "source": [
    "y_test_predict = model.predict(X_test_pad)\n",
    "y_predict = np.where(y_test_predict > 0.5,1,0)\n",
    "y_pred = [item for sublist in y_predict for item in sublist]"
   ]
  },
  {
   "cell_type": "code",
   "execution_count": 143,
   "metadata": {},
   "outputs": [
    {
     "name": "stdout",
     "output_type": "stream",
     "text": [
      "              precision    recall  f1-score   support\n",
      "\n",
      "     class 0       0.71      0.28      0.41      1719\n",
      "     class 1       0.46      0.84      0.60      1252\n",
      "\n",
      "    accuracy                           0.52      2971\n",
      "   macro avg       0.59      0.56      0.50      2971\n",
      "weighted avg       0.61      0.52      0.49      2971\n",
      "\n"
     ]
    }
   ],
   "source": [
    "target_names = ['class 0', 'class 1']\n",
    "print(classification_report(y_test, y_pred, target_names=target_names))"
   ]
  },
  {
   "cell_type": "code",
   "execution_count": 144,
   "metadata": {},
   "outputs": [
    {
     "data": {
      "image/png": "[encoded data removed]",
      "text/plain": [
       "<Figure size 864x360 with 2 Axes>"
      ]
     },
     "metadata": {
      "needs_background": "light"
     },
     "output_type": "display_data"
    }
   ],
   "source": [
    "# Plot shows it clearly overfits training data and validataion loss is increasing which indicates to reduce \n",
    "# early stopping patience parameter\n",
    "plot_history(history1)"
   ]
  },
  {
   "cell_type": "code",
   "execution_count": null,
   "metadata": {},
   "outputs": [],
   "source": []
  }
 ],
 "metadata": {
  "colab": {
   "collapsed_sections": [],
   "name": "Model_Implementation_gram.ipynb",
   "provenance": [],
   "toc_visible": true
  },
  "kernelspec": {
   "display_name": "Python 3",
   "language": "python",
   "name": "python3"
  },
  "language_info": {
   "codemirror_mode": {
    "name": "ipython",
    "version": 3
   },
   "file_extension": ".py",
   "mimetype": "text/x-python",
   "name": "python",
   "nbconvert_exporter": "python",
   "pygments_lexer": "ipython3",
   "version": "3.8.3"
  }
 },
 "nbformat": 4,
 "nbformat_minor": 1
}
